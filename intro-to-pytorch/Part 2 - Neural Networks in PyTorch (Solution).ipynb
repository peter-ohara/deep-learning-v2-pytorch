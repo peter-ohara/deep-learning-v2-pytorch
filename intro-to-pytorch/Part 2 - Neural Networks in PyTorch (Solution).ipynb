{
 "cells": [
  {
   "cell_type": "markdown",
   "metadata": {},
   "source": [
    "# Neural networks with PyTorch\n",
    "\n",
    "Deep learning networks tend to be massive with dozens or hundreds of layers, that's where the term \"deep\" comes from. You can build one of these deep networks using only weight matrices as we did in the previous notebook, but in general it's very cumbersome and difficult to implement. PyTorch has a nice module `nn` that provides a nice way to efficiently build large neural networks."
   ]
  },
  {
   "cell_type": "code",
   "execution_count": 1,
   "metadata": {},
   "outputs": [],
   "source": [
    "# Import necessary packages\n",
    "\n",
    "%matplotlib inline\n",
    "%config InlineBackend.figure_format = 'retina'\n",
    "\n",
    "import numpy as np\n",
    "import torch\n",
    "\n",
    "import helper\n",
    "\n",
    "import matplotlib.pyplot as plt"
   ]
  },
  {
   "cell_type": "markdown",
   "metadata": {},
   "source": [
    "\n",
    "Now we're going to build a larger network that can solve a (formerly) difficult problem, identifying text in an image. Here we'll use the MNIST dataset which consists of greyscale handwritten digits. Each image is 28x28 pixels, you can see a sample below\n",
    "\n",
    "<img src='assets/mnist.png'>\n",
    "\n",
    "Our goal is to build a neural network that can take one of these images and predict the digit in the image.\n",
    "\n",
    "First up, we need to get our dataset. This is provided through the `torchvision` package. The code below will download the MNIST dataset, then create training and test datasets for us. Don't worry too much about the details here, you'll learn more about this later."
   ]
  },
  {
   "cell_type": "code",
   "execution_count": 2,
   "metadata": {},
   "outputs": [],
   "source": [
    "### Run this cell\n",
    "\n",
    "from torchvision import datasets, transforms\n",
    "\n",
    "# Define a transform to normalize the data\n",
    "transform = transforms.Compose([transforms.ToTensor(),\n",
    "                              transforms.Normalize((0.5,), (0.5,)),\n",
    "                              ])\n",
    "# Download and load the training data\n",
    "trainset = datasets.MNIST('~/.pytorch/MNIST_data/', download=True, train=True, transform=transform)\n",
    "trainloader = torch.utils.data.DataLoader(trainset, batch_size=64, shuffle=True)"
   ]
  },
  {
   "cell_type": "markdown",
   "metadata": {},
   "source": [
    "We have the training data loaded into `trainloader` and we make that an iterator with `iter(trainloader)`. Later, we'll use this to loop through the dataset for training, like\n",
    "\n",
    "```python\n",
    "for image, label in trainloader:\n",
    "    ## do things with images and labels\n",
    "```\n",
    "\n",
    "You'll notice I created the `trainloader` with a batch size of 64, and `shuffle=True`. The batch size is the number of images we get in one iteration from the data loader and pass through our network, often called a *batch*. And `shuffle=True` tells it to shuffle the dataset every time we start going through the data loader again. But here I'm just grabbing the first batch so we can check out the data. We can see below that `images` is just a tensor with size `(64, 1, 28, 28)`. So, 64 images per batch, 1 color channel, and 28x28 images."
   ]
  },
  {
   "cell_type": "code",
   "execution_count": 3,
   "metadata": {},
   "outputs": [
    {
     "name": "stdout",
     "output_type": "stream",
     "text": [
      "<class 'torch.Tensor'>\n",
      "torch.Size([64, 1, 28, 28])\n",
      "torch.Size([64])\n"
     ]
    }
   ],
   "source": [
    "dataiter = iter(trainloader)\n",
    "images, labels = dataiter.next()\n",
    "print(type(images))\n",
    "print(images.shape)\n",
    "print(labels.shape)"
   ]
  },
  {
   "cell_type": "markdown",
   "metadata": {},
   "source": [
    "This is what one of the images looks like. "
   ]
  },
  {
   "cell_type": "code",
   "execution_count": 4,
   "metadata": {},
   "outputs": [
    {
     "data": {
      "image/png": "[encoded data removed]",
      "text/plain": [
       "<Figure size 432x288 with 1 Axes>"
      ]
     },
     "metadata": {
      "image/png": {
       "height": 250,
       "width": 253
      },
      "needs_background": "light"
     },
     "output_type": "display_data"
    }
   ],
   "source": [
    "plt.imshow(images[1].numpy().squeeze(), cmap='Greys_r');"
   ]
  },
  {
   "cell_type": "markdown",
   "metadata": {},
   "source": [
    "First, let's try to build a simple network for this dataset using weight matrices and matrix multiplications. Then, we'll see how to do it using PyTorch's `nn` module which provides a much more convenient and powerful method for defining network architectures.\n",
    "\n",
    "The networks you've seen so far are called *fully-connected* or *dense* networks. Each unit in one layer is connected to each unit in the next layer. In fully-connected networks, the input to each layer must be a one-dimensional vector (which can be stacked into a 2D tensor as a batch of multiple examples). However, our images are 28x28 2D tensors, so we need to convert them into 1D vectors. Thinking about sizes, we need to convert the batch of images with shape `(64, 1, 28, 28)` to a have a shape of `(64, 784)`, 784 is 28 times 28. This is typically called *flattening*, we flattened the 2D images into 1D vectors.\n",
    "\n",
    "Previously you built a network with one output unit. Here we need 10 output units, one for each digit. We want our network to predict the digit shown in an image, so what we'll do is calculate probabilities that the image is of any one digit or class. This ends up being a discrete probability distribution over the classes (digits) that tells us the most likely class for the image. That means we need 10 output units for the 10 classes (digits). We'll see how to convert the network output into a probability distribution next.\n",
    "\n",
    "> **Exercise:** Flatten the batch of images `images`. Then build a multi-layer network with 784 input units, 256 hidden units, and 10 output units using random tensors for the weights and biases. For now, use a sigmoid activation for the hidden layer. Leave the output layer without an activation, we'll add one that gives us a probability distribution next."
   ]
  },
  {
   "cell_type": "code",
   "execution_count": 21,
   "metadata": {},
   "outputs": [
    {
     "data": {
      "text/plain": [
       "torch.Size([64, 784])"
      ]
     },
     "metadata": {},
     "output_type": "display_data"
    },
    {
     "data": {
      "text/plain": [
       "tensor([[-14.0800,   8.1220, -12.4751, -10.5279,  -4.7828,   2.2943,  14.0990,\n",
       "          -5.4328,  -1.7051, -11.1261],\n",
       "        [ -6.2580,  -0.4376,  -7.6294, -12.0163,   0.1638,  15.4740,  11.8882,\n",
       "          -0.6553,  -0.7823, -14.7738],\n",
       "        [-10.2286,   8.2931, -12.6996, -17.1227,  -5.4364,   7.4558,  13.8493,\n",
       "          -5.5768,  -5.1135, -14.7415],\n",
       "        [-10.3917,   3.6040,  -5.2268, -12.1912,   3.4219,   8.0253,  17.2319,\n",
       "          -9.0319,  -3.4884,   4.8142],\n",
       "        [-11.8343,   4.3745,  -5.1314, -15.5530,   2.5536,  10.8865,  10.0645,\n",
       "          -7.9494,  -2.0796,  -1.4190],\n",
       "        [ -6.5604,  10.6251,  -6.9530, -22.0539,  -2.2053,   5.4167,  10.3688,\n",
       "          -0.5605,  -9.4112, -10.1379],\n",
       "        [-11.7361,  -1.9909, -17.6706, -13.9321,  -2.2216,   3.3742,   4.8859,\n",
       "          -5.2593,   6.1261,  -7.4811],\n",
       "        [ -9.8938,  -1.7679,  -6.4606, -23.5578,  -6.6662,   8.3592,   9.5970,\n",
       "           7.8196,   0.9395,  -8.5518],\n",
       "        [-15.5844,   7.0588,  -5.3806, -20.5969,   2.5131,   2.8259,  11.6150,\n",
       "           1.1466,  -1.3142,   1.2204],\n",
       "        [ -5.9784,   0.6868, -11.0372,  -3.8988, -12.4031,   8.2422,   5.0045,\n",
       "          -5.0367,   1.4849, -20.2471],\n",
       "        [-10.9073,  -0.5089,  -3.9692, -11.1691,   6.0890,   7.0337,   7.8812,\n",
       "          -9.7646,   4.0675, -11.7921],\n",
       "        [ -7.1306,  -6.6155, -15.9555, -19.5428,   9.4446,   2.9589,  10.8143,\n",
       "          -1.6145,  -2.4885,  -3.6648],\n",
       "        [-11.3552,   3.3573,  -6.8447, -16.4064,  -1.1809,   8.0516,   8.2738,\n",
       "           0.9091,   7.0231, -15.6560],\n",
       "        [-11.9315,  -6.6577, -15.3404,  -9.0135, -13.9435,   2.3745,   8.9289,\n",
       "           3.2870,   0.8004, -13.5325],\n",
       "        [-13.7937,   9.2142, -14.2791,   2.4450,   3.4828,   3.5482,   7.5695,\n",
       "          -3.7838,   2.0826, -12.7094],\n",
       "        [-13.5988,   7.4442,  -3.0687, -16.9940,  -4.0623,   5.4682,  20.9393,\n",
       "           8.0419,   4.7563, -13.6200],\n",
       "        [-14.8367,   1.1159,  -8.9814, -14.9617,   9.1534,  -1.8900,   5.9690,\n",
       "           2.5234,   2.3061,  -2.0555],\n",
       "        [-16.1449,   4.9828, -11.2392, -21.9922,  -4.0117,   3.6708,  16.7677,\n",
       "          -0.5934,   0.3796,  -1.6698],\n",
       "        [ -4.4098,  12.9363,  -8.7187,  -9.7298,  -3.4503,   9.9081,   7.2331,\n",
       "          -0.0757,   8.2245, -17.4686],\n",
       "        [-10.0429,   9.4190, -11.1032,  -6.0783,  -2.6144,  -9.8506,   5.9509,\n",
       "           4.0276,   4.4132,  -6.0232],\n",
       "        [ -9.6240,   7.2857,  -2.7224, -16.3249,   6.7993,   1.3632,  16.8010,\n",
       "           0.7061,   3.8760,  -2.4252],\n",
       "        [-12.3741,   1.5171,  -9.5575, -19.5523, -11.0281,   3.7481,  11.5931,\n",
       "           6.1441,   3.4019, -17.1591],\n",
       "        [-16.6869,   5.1589,  -3.6840, -20.0113,  -1.0566,   2.4390,  11.3467,\n",
       "           2.8838,  -0.3770,  -5.1587],\n",
       "        [-15.5667,  -0.2604, -15.8735, -15.9140,   5.5759,   6.6916,   3.3152,\n",
       "          -4.3290,  -3.1158,  -7.7069],\n",
       "        [ -9.4994,   7.0825, -12.2774, -16.8719,  -0.8562,   1.5886,  16.5028,\n",
       "           4.3005,  -0.3274,  -5.6617],\n",
       "        [ -7.6970,   3.6492, -13.1998, -10.2606,   2.1862,   2.7579,  15.8024,\n",
       "          -1.5261,   1.7492, -15.5381],\n",
       "        [ -8.7723,   1.6738,  -5.2723, -23.6359,  -3.3073,   6.8338,  11.4242,\n",
       "           8.4258,  -1.6585,  -7.3937],\n",
       "        [ -3.7796,   2.9877,   1.6067, -15.4341,  -1.2003,   8.6579,   8.3127,\n",
       "           5.9729,   3.3571, -17.3132],\n",
       "        [-11.5956,   3.2776,  -9.9832,  -9.5201,   3.9393,   5.0610,  13.4899,\n",
       "           3.8707,   0.5800,  -5.1808],\n",
       "        [-16.9752,   0.6035, -11.1198, -14.9235,   4.5610,   6.2802,  17.1014,\n",
       "          -5.6663,   1.6516, -15.6104],\n",
       "        [-16.2328,   3.1007,  -2.2520, -17.2864,  -1.9896,  -6.0374,   5.9495,\n",
       "         -12.1327,  -4.4254, -10.8641],\n",
       "        [ -4.4761,   0.4199,  -4.4505, -23.5281,  -2.8503,  -1.6618,  10.8435,\n",
       "          -5.4179,   2.5150,  -2.3322],\n",
       "        [-12.8232,   4.7268,  -2.4510, -13.7305,   2.1674,   1.1227,   5.2207,\n",
       "           2.9588,   1.4588, -18.1506],\n",
       "        [ -2.9981,   5.0823, -11.9837, -25.8472, -15.8795,  10.2018,  10.5922,\n",
       "          -4.3386,   1.1460,  -2.4485],\n",
       "        [ -3.5913,   6.0656, -12.4981, -14.3797,  -2.8418,  10.3013,  11.3203,\n",
       "          -2.8134,  -4.9910, -14.9657],\n",
       "        [ -6.3228,   6.2487,  -9.9811, -18.2601,  -5.9913,   7.5187,  12.7286,\n",
       "           6.0367,   2.9102,   0.3929],\n",
       "        [ -7.8348,  -2.2527, -17.6038,  -9.9754, -10.6518,  -1.0013,  12.2245,\n",
       "          -0.1093,  -1.7959, -12.6200],\n",
       "        [ -5.6684,   0.6422, -14.6083, -23.9146,  -8.8474,   4.1350,   6.0616,\n",
       "           0.8588,   0.4088, -15.0096],\n",
       "        [ -8.8905,   0.8105,  -4.3011, -15.4447,   0.4503,   2.1826,  14.5736,\n",
       "           3.6678,  -4.2000,  -7.4330],\n",
       "        [-10.9027,   4.3309, -12.0950, -10.5847,  -2.5390,   1.0519,  12.0824,\n",
       "          -5.4493,  -4.5819,  -8.3751],\n",
       "        [-13.0483,  10.9849,  -9.7536, -21.3989,   7.0736,   3.9962,   5.5469,\n",
       "         -11.3598,   0.5659,  -9.2986],\n",
       "        [-13.4247,   2.9746,  -7.9098, -14.0689,  -1.5074,   7.9101,   5.8797,\n",
       "          -5.4222,   8.5073,  -9.7675],\n",
       "        [ -9.5531,   5.8099, -14.4585, -27.0785,   0.4717,  11.2939,   8.9681,\n",
       "          -3.9822,   4.7835,  -1.8392],\n",
       "        [ -6.3453,   5.3933,  -7.2190, -21.8327,   2.0410,   5.2006,  11.2319,\n",
       "           4.4479,   1.8125, -12.1167],\n",
       "        [-13.4123,   1.0341, -13.9621, -15.8482,   2.0379,   5.6585,  -2.9775,\n",
       "           3.2189,  -3.8128, -12.1971],\n",
       "        [-15.3899,  -0.6753, -17.8014,   1.8803,   1.6533,  14.3797,  13.9666,\n",
       "         -11.0679,   4.8890,  -7.7746],\n",
       "        [ -6.4271,   7.8660, -16.2269, -13.6605,  -5.5641,  -0.7526,  15.3097,\n",
       "          -2.3174,   0.0394,  -9.0280],\n",
       "        [ -8.4730,   6.9019, -10.4710, -11.8718,   2.8078,   1.9832,   6.2774,\n",
       "          -6.2155,   3.1179,  -6.4177],\n",
       "        [ -6.4600,   6.1604,  -3.1388,  -7.6157,   1.0509,   5.1638,   7.8751,\n",
       "          -1.6341,  13.5553,   4.1785],\n",
       "        [ -3.4199,  11.9653, -13.3311, -17.0648,   2.8375,  14.6551,  11.0292,\n",
       "          -0.4756,   1.2728, -14.9735],\n",
       "        [-16.2665,   9.5279,  -2.5516, -16.7077,   9.9295,   9.6387,   5.7672,\n",
       "          10.5358,  -0.3135, -13.0521],\n",
       "        [-17.3983,   4.4708,  -8.3532, -12.1942,   9.0838,   6.1589,  15.2243,\n",
       "          -0.6620,   1.0729, -13.8097],\n",
       "        [-10.1610,   8.3934,  -8.3168, -17.7840,  -7.8050,   9.8426,   3.4018,\n",
       "           1.5694,  -5.4717, -11.8105],\n",
       "        [  0.0478,   4.9103,  -3.9719, -19.2380,   1.1729,   6.9211,   1.3511,\n",
       "          -8.4056,   5.8253, -12.3909],\n",
       "        [-14.5306,   6.4476, -10.3726, -15.7761,   8.1179,  12.3664,  18.9102,\n",
       "          -1.3326,  -5.2804,  -4.7821],\n",
       "        [-13.3022,   3.3078, -20.4069,  -6.1622,   3.2374,   9.4019,   9.5379,\n",
       "          -4.4492,   0.8619, -12.4709],\n",
       "        [ -7.3463,   1.2884, -15.9073, -28.5679,  -0.8485,  14.5720,  10.0579,\n",
       "           4.2201,  -0.4610, -13.9603],\n",
       "        [ -6.1399,   4.0081,  -8.3458, -12.3728,  -1.0439,   1.9236,   2.9334,\n",
       "           1.9686,   1.0269,  -6.9597],\n",
       "        [ -9.5442,   9.9901,  -7.2125, -14.9389,   1.1418,  11.7298,  10.9851,\n",
       "           4.1753,  -4.9322, -16.3173],\n",
       "        [-13.8425,   0.8551,  -8.4708, -14.3042,   4.9190,  -2.3102,  11.0560,\n",
       "          -7.2695,  -3.2173, -17.8814],\n",
       "        [-11.1035,   3.8303,  -6.6541, -16.3761,   5.2781,  -2.5087,  14.0008,\n",
       "          10.2392,   1.6091,  -6.0512],\n",
       "        [-15.5687,   9.8890, -12.3296,  -8.9186,  -7.4054,   6.1171,  18.4714,\n",
       "          -9.8835,  -3.1142,  -2.8816],\n",
       "        [-13.2626,   4.1889,  -3.6364, -10.9871,   2.9392,   7.4507,   9.6649,\n",
       "           1.2403,  -1.4121, -17.5573],\n",
       "        [-11.0078,   8.2424,  -7.5102, -20.9634,  -6.6781,   5.2486,   2.6271,\n",
       "          -5.8009,  -5.2693,   0.7143]])"
      ]
     },
     "execution_count": 21,
     "metadata": {},
     "output_type": "execute_result"
    }
   ],
   "source": [
    "## Solution\n",
    "def activation(x):\n",
    "    return 1/(1+torch.exp(-x))\n",
    "\n",
    "# Flatten the input images\n",
    "inputs = images.view(images.shape[0], -1)\n",
    "display(inputs.shape)\n",
    "\n",
    "# Create parameters\n",
    "w1 = torch.randn(784, 256)\n",
    "b1 = torch.randn(256)\n",
    "\n",
    "w2 = torch.randn(256, 10)\n",
    "b2 = torch.randn(10)\n",
    "\n",
    "h = activation(torch.mm(inputs, w1) + b1)\n",
    "\n",
    "out = torch.mm(h, w2) + b2\n",
    "out"
   ]
  },
  {
   "cell_type": "markdown",
   "metadata": {},
   "source": [
    "Now we have 10 outputs for our network. We want to pass in an image to our network and get out a probability distribution over the classes that tells us the likely class(es) the image belongs to. Something that looks like this:\n",
    "<img src='assets/image_distribution.png' width=500px>\n",
    "\n",
    "Here we see that the probability for each class is roughly the same. This is representing an untrained network, it hasn't seen any data yet so it just returns a uniform distribution with equal probabilities for each class.\n",
    "\n",
    "To calculate this probability distribution, we often use the [**softmax** function](https://en.wikipedia.org/wiki/Softmax_function). Mathematically this looks like\n",
    "\n",
    "$$\n",
    "\\Large \\sigma(x_i) = \\cfrac{e^{x_i}}{\\sum_k^K{e^{x_k}}}\n",
    "$$\n",
    "\n",
    "What this does is squish each input $x_i$ between 0 and 1 and normalizes the values to give you a proper probability distribution where the probabilites sum up to one.\n",
    "\n",
    "> **Exercise:** Implement a function `softmax` that performs the softmax calculation and returns probability distributions for each example in the batch. Note that you'll need to pay attention to the shapes when doing this. If you have a tensor `a` with shape `(64, 10)` and a tensor `b` with shape `(64,)`, doing `a/b` will give you an error because PyTorch will try to do the division across the columns (called broadcasting) but you'll get a size mismatch. The way to think about this is for each of the 64 examples, you only want to divide by one value, the sum in the denominator. So you need `b` to have a shape of `(64, 1)`. This way PyTorch will divide the 10 values in each row of `a` by the one value in each row of `b`. Pay attention to how you take the sum as well. You'll need to define the `dim` keyword in `torch.sum`. Setting `dim=0` takes the sum across the rows while `dim=1` takes the sum across the columns."
   ]
  },
  {
   "cell_type": "code",
   "execution_count": 24,
   "metadata": {},
   "outputs": [
    {
     "data": {
      "text/plain": [
       "torch.Size([64])"
      ]
     },
     "metadata": {},
     "output_type": "display_data"
    },
    {
     "data": {
      "text/plain": [
       "torch.Size([64, 1])"
      ]
     },
     "metadata": {},
     "output_type": "display_data"
    },
    {
     "name": "stdout",
     "output_type": "stream",
     "text": [
      "torch.Size([64, 10])\n",
      "tensor([1.0000, 1.0000, 1.0000, 1.0000, 1.0000, 1.0000, 1.0000, 1.0000, 1.0000,\n",
      "        1.0000, 1.0000, 1.0000, 1.0000, 1.0000, 1.0000, 1.0000, 1.0000, 1.0000,\n",
      "        1.0000, 1.0000, 1.0000, 1.0000, 1.0000, 1.0000, 1.0000, 1.0000, 1.0000,\n",
      "        1.0000, 1.0000, 1.0000, 1.0000, 1.0000, 1.0000, 1.0000, 1.0000, 1.0000,\n",
      "        1.0000, 1.0000, 1.0000, 1.0000, 1.0000, 1.0000, 1.0000, 1.0000, 1.0000,\n",
      "        1.0000, 1.0000, 1.0000, 1.0000, 1.0000, 1.0000, 1.0000, 1.0000, 1.0000,\n",
      "        1.0000, 1.0000, 1.0000, 1.0000, 1.0000, 1.0000, 1.0000, 1.0000, 1.0000,\n",
      "        1.0000])\n"
     ]
    }
   ],
   "source": [
    "## Solution\n",
    "def softmax(x):\n",
    "    return torch.exp(x)/torch.sum(torch.exp(x), dim=1).view(-1, 1)\n",
    "\n",
    "probabilities = softmax(out)\n",
    "\n",
    "# Does it have the right shape? Should be (64, 10)\n",
    "print(probabilities.shape)\n",
    "# Does it sum to 1?\n",
    "print(probabilities.sum(dim=1))"
   ]
  },
  {
   "cell_type": "markdown",
   "metadata": {},
   "source": [
    "## Building networks with PyTorch\n",
    "\n",
    "PyTorch provides a module `nn` that makes building networks much simpler. Here I'll show you how to build the same one as above with 784 inputs, 256 hidden units, 10 output units and a softmax output."
   ]
  },
  {
   "cell_type": "code",
   "execution_count": 7,
   "metadata": {},
   "outputs": [],
   "source": [
    "from torch import nn"
   ]
  },
  {
   "cell_type": "code",
   "execution_count": 8,
   "metadata": {},
   "outputs": [],
   "source": [
    "class Network(nn.Module):\n",
    "    def __init__(self):\n",
    "        super().__init__()\n",
    "        \n",
    "        # Inputs to hidden layer linear transformation\n",
    "        self.hidden = nn.Linear(784, 256)\n",
    "        # Output layer, 10 units - one for each digit\n",
    "        self.output = nn.Linear(256, 10)\n",
    "        \n",
    "        # Define sigmoid activation and softmax output \n",
    "        self.sigmoid = nn.Sigmoid()\n",
    "        self.softmax = nn.Softmax(dim=1)\n",
    "        \n",
    "    def forward(self, x):\n",
    "        # Pass the input tensor through each of our operations\n",
    "        x = self.hidden(x)\n",
    "        x = self.sigmoid(x)\n",
    "        x = self.output(x)\n",
    "        x = self.softmax(x)\n",
    "        \n",
    "        return x"
   ]
  },
  {
   "cell_type": "markdown",
   "metadata": {},
   "source": [
    "Let's go through this bit by bit.\n",
    "\n",
    "```python\n",
    "class Network(nn.Module):\n",
    "```\n",
    "\n",
    "Here we're inheriting from `nn.Module`. Combined with `super().__init__()` this creates a class that tracks the architecture and provides a lot of useful methods and attributes. It is mandatory to inherit from `nn.Module` when you're creating a class for your network. The name of the class itself can be anything.\n",
    "\n",
    "```python\n",
    "self.hidden = nn.Linear(784, 256)\n",
    "```\n",
    "\n",
    "This line creates a module for a linear transformation, $x\\mathbf{W} + b$, with 784 inputs and 256 outputs and assigns it to `self.hidden`. The module automatically creates the weight and bias tensors which we'll use in the `forward` method. You can access the weight and bias tensors once the network (`net`) is created with `net.hidden.weight` and `net.hidden.bias`.\n",
    "\n",
    "```python\n",
    "self.output = nn.Linear(256, 10)\n",
    "```\n",
    "\n",
    "Similarly, this creates another linear transformation with 256 inputs and 10 outputs.\n",
    "\n",
    "```python\n",
    "self.sigmoid = nn.Sigmoid()\n",
    "self.softmax = nn.Softmax(dim=1)\n",
    "```\n",
    "\n",
    "Here I defined operations for the sigmoid activation and softmax output. Setting `dim=1` in `nn.Softmax(dim=1)` calculates softmax across the columns.\n",
    "\n",
    "```python\n",
    "def forward(self, x):\n",
    "```\n",
    "\n",
    "PyTorch networks created with `nn.Module` must have a `forward` method defined. It takes in a tensor `x` and passes it through the operations you defined in the `__init__` method.\n",
    "\n",
    "```python\n",
    "x = self.hidden(x)\n",
    "x = self.sigmoid(x)\n",
    "x = self.output(x)\n",
    "x = self.softmax(x)\n",
    "```\n",
    "\n",
    "Here the input tensor `x` is passed through each operation a reassigned to `x`. We can see that the input tensor goes through the hidden layer, then a sigmoid function, then the output layer, and finally the softmax function. It doesn't matter what you name the variables here, as long as the inputs and outputs of the operations match the network architecture you want to build. The order in which you define things in the `__init__` method doesn't matter, but you'll need to sequence the operations correctly in the `forward` method.\n",
    "\n",
    "Now we can create a `Network` object."
   ]
  },
  {
   "cell_type": "code",
   "execution_count": 9,
   "metadata": {},
   "outputs": [
    {
     "data": {
      "text/plain": [
       "Network(\n",
       "  (hidden): Linear(in_features=784, out_features=256, bias=True)\n",
       "  (output): Linear(in_features=256, out_features=10, bias=True)\n",
       "  (sigmoid): Sigmoid()\n",
       "  (softmax): Softmax()\n",
       ")"
      ]
     },
     "execution_count": 9,
     "metadata": {},
     "output_type": "execute_result"
    }
   ],
   "source": [
    "# Create the network and look at it's text representation\n",
    "model = Network()\n",
    "model"
   ]
  },
  {
   "cell_type": "markdown",
   "metadata": {},
   "source": [
    "You can define the network somewhat more concisely and clearly using the `torch.nn.functional` module. This is the most common way you'll see networks defined as many operations are simple element-wise functions. We normally import this module as `F`, `import torch.nn.functional as F`."
   ]
  },
  {
   "cell_type": "code",
   "execution_count": 10,
   "metadata": {},
   "outputs": [],
   "source": [
    "import torch.nn.functional as F\n",
    "\n",
    "class Network(nn.Module):\n",
    "    def __init__(self):\n",
    "        super().__init__()\n",
    "        # Inputs to hidden layer linear transformation\n",
    "        self.hidden = nn.Linear(784, 256)\n",
    "        # Output layer, 10 units - one for each digit\n",
    "        self.output = nn.Linear(256, 10)\n",
    "        \n",
    "    def forward(self, x):\n",
    "        # Hidden layer with sigmoid activation\n",
    "        x = F.sigmoid(self.hidden(x))\n",
    "        # Output layer with softmax activation\n",
    "        x = F.softmax(self.output(x), dim=1)\n",
    "        \n",
    "        return x"
   ]
  },
  {
   "cell_type": "markdown",
   "metadata": {},
   "source": [
    "### Activation functions\n",
    "\n",
    "So far we've only been looking at the softmax activation, but in general any function can be used as an activation function. The only requirement is that for a network to approximate a non-linear function, the activation functions must be non-linear. Here are a few more examples of common activation functions: Tanh (hyperbolic tangent), and ReLU (rectified linear unit).\n",
    "\n",
    "<img src=\"assets/activation.png\" width=700px>\n",
    "\n",
    "In practice, the ReLU function is used almost exclusively as the activation function for hidden layers."
   ]
  },
  {
   "cell_type": "markdown",
   "metadata": {},
   "source": [
    "### Your Turn to Build a Network\n",
    "\n",
    "<img src=\"assets/mlp_mnist.png\" width=600px>\n",
    "\n",
    "> **Exercise:** Create a network with 784 input units, a hidden layer with 128 units and a ReLU activation, then a hidden layer with 64 units and a ReLU activation, and finally an output layer with a softmax activation as shown above. You can use a ReLU activation with the `nn.ReLU` module or `F.relu` function.\n",
    "\n",
    "It's good practice to name your layers by their type of network, for instance 'fc' to represent a fully-connected layer. As you code your solution, use `fc1`, `fc2`, and `fc3` as your layer names."
   ]
  },
  {
   "cell_type": "code",
   "execution_count": 11,
   "metadata": {
    "scrolled": true
   },
   "outputs": [
    {
     "data": {
      "text/plain": [
       "Network(\n",
       "  (fc1): Linear(in_features=784, out_features=128, bias=True)\n",
       "  (fc2): Linear(in_features=128, out_features=64, bias=True)\n",
       "  (fc3): Linear(in_features=64, out_features=10, bias=True)\n",
       ")"
      ]
     },
     "execution_count": 11,
     "metadata": {},
     "output_type": "execute_result"
    }
   ],
   "source": [
    "## Solution\n",
    "\n",
    "class Network(nn.Module):\n",
    "    def __init__(self):\n",
    "        super().__init__()\n",
    "        # Defining the layers, 128, 64, 10 units each\n",
    "        self.fc1 = nn.Linear(784, 128)\n",
    "        self.fc2 = nn.Linear(128, 64)\n",
    "        # Output layer, 10 units - one for each digit\n",
    "        self.fc3 = nn.Linear(64, 10)\n",
    "        \n",
    "    def forward(self, x):\n",
    "        ''' Forward pass through the network, returns the output logits '''\n",
    "        \n",
    "        x = self.fc1(x)\n",
    "        x = F.relu(x)\n",
    "        x = self.fc2(x)\n",
    "        x = F.relu(x)\n",
    "        x = self.fc3(x)\n",
    "        x = F.softmax(x, dim=1)\n",
    "        \n",
    "        return x\n",
    "\n",
    "model = Network()\n",
    "model"
   ]
  },
  {
   "cell_type": "markdown",
   "metadata": {},
   "source": [
    "### Initializing weights and biases\n",
    "\n",
    "The weights and such are automatically initialized for you, but it's possible to customize how they are initialized. The weights and biases are tensors attached to the layer you defined, you can get them with `model.fc1.weight` for instance."
   ]
  },
  {
   "cell_type": "code",
   "execution_count": 12,
   "metadata": {},
   "outputs": [
    {
     "name": "stdout",
     "output_type": "stream",
     "text": [
      "Parameter containing:\n",
      "tensor([[-0.0143,  0.0304,  0.0267,  ...,  0.0050, -0.0161,  0.0055],\n",
      "        [ 0.0121,  0.0192,  0.0016,  ...,  0.0251,  0.0151,  0.0125],\n",
      "        [ 0.0214,  0.0153, -0.0171,  ..., -0.0062, -0.0171, -0.0348],\n",
      "        ...,\n",
      "        [-0.0097,  0.0140,  0.0341,  ..., -0.0333,  0.0225, -0.0342],\n",
      "        [ 0.0224, -0.0142, -0.0172,  ...,  0.0225, -0.0215,  0.0181],\n",
      "        [-0.0148, -0.0307, -0.0177,  ...,  0.0137, -0.0320, -0.0270]],\n",
      "       requires_grad=True)\n",
      "Parameter containing:\n",
      "tensor([ 0.0350, -0.0268,  0.0339,  0.0298,  0.0150, -0.0224,  0.0214,  0.0012,\n",
      "        -0.0065,  0.0095, -0.0103, -0.0170, -0.0277, -0.0283, -0.0184,  0.0274,\n",
      "        -0.0139,  0.0251, -0.0047,  0.0214, -0.0234, -0.0168,  0.0168, -0.0336,\n",
      "         0.0159, -0.0121,  0.0348,  0.0280,  0.0214,  0.0122, -0.0093,  0.0256,\n",
      "         0.0137,  0.0287, -0.0311, -0.0083,  0.0125, -0.0095, -0.0161,  0.0198,\n",
      "         0.0182,  0.0112, -0.0340,  0.0106,  0.0181,  0.0269, -0.0303,  0.0300,\n",
      "        -0.0194,  0.0167,  0.0099,  0.0167, -0.0212, -0.0350,  0.0062, -0.0137,\n",
      "         0.0162,  0.0055, -0.0034, -0.0090,  0.0230, -0.0213,  0.0282, -0.0167,\n",
      "        -0.0080,  0.0327, -0.0154,  0.0287, -0.0210,  0.0156,  0.0054, -0.0102,\n",
      "         0.0334, -0.0303,  0.0021, -0.0269,  0.0189,  0.0246,  0.0014,  0.0144,\n",
      "        -0.0097, -0.0156, -0.0210, -0.0226, -0.0129,  0.0010, -0.0194, -0.0034,\n",
      "         0.0340, -0.0096,  0.0162,  0.0056, -0.0280, -0.0105, -0.0167,  0.0234,\n",
      "        -0.0112, -0.0276,  0.0200, -0.0010, -0.0227, -0.0181, -0.0077, -0.0343,\n",
      "        -0.0081,  0.0086,  0.0340,  0.0121, -0.0135,  0.0104,  0.0032,  0.0111,\n",
      "         0.0305,  0.0206,  0.0018, -0.0250, -0.0027,  0.0194,  0.0276,  0.0140,\n",
      "        -0.0193,  0.0253,  0.0062, -0.0344,  0.0299,  0.0018, -0.0325,  0.0178],\n",
      "       requires_grad=True)\n"
     ]
    }
   ],
   "source": [
    "print(model.fc1.weight)\n",
    "print(model.fc1.bias)"
   ]
  },
  {
   "cell_type": "markdown",
   "metadata": {},
   "source": [
    "For custom initialization, we want to modify these tensors in place. These are actually autograd *Variables*, so we need to get back the actual tensors with `model.fc1.weight.data`. Once we have the tensors, we can fill them with zeros (for biases) or random normal values."
   ]
  },
  {
   "cell_type": "code",
   "execution_count": 13,
   "metadata": {},
   "outputs": [
    {
     "data": {
      "text/plain": [
       "tensor([0., 0., 0., 0., 0., 0., 0., 0., 0., 0., 0., 0., 0., 0., 0., 0., 0., 0., 0., 0., 0., 0., 0., 0.,\n",
       "        0., 0., 0., 0., 0., 0., 0., 0., 0., 0., 0., 0., 0., 0., 0., 0., 0., 0., 0., 0., 0., 0., 0., 0.,\n",
       "        0., 0., 0., 0., 0., 0., 0., 0., 0., 0., 0., 0., 0., 0., 0., 0., 0., 0., 0., 0., 0., 0., 0., 0.,\n",
       "        0., 0., 0., 0., 0., 0., 0., 0., 0., 0., 0., 0., 0., 0., 0., 0., 0., 0., 0., 0., 0., 0., 0., 0.,\n",
       "        0., 0., 0., 0., 0., 0., 0., 0., 0., 0., 0., 0., 0., 0., 0., 0., 0., 0., 0., 0., 0., 0., 0., 0.,\n",
       "        0., 0., 0., 0., 0., 0., 0., 0.])"
      ]
     },
     "execution_count": 13,
     "metadata": {},
     "output_type": "execute_result"
    }
   ],
   "source": [
    "# Set biases to all zeros\n",
    "model.fc1.bias.data.fill_(0)"
   ]
  },
  {
   "cell_type": "code",
   "execution_count": 14,
   "metadata": {},
   "outputs": [
    {
     "data": {
      "text/plain": [
       "tensor([[-2.8122e-02, -5.6158e-03,  1.7900e-02,  ...,  1.5624e-03,\n",
       "          2.0321e-02,  3.4150e-03],\n",
       "        [-3.8280e-03, -6.7240e-03,  7.1400e-03,  ...,  1.4396e-02,\n",
       "         -1.4321e-03,  7.7184e-03],\n",
       "        [-5.6138e-03, -1.6584e-03,  1.5495e-02,  ...,  1.2317e-02,\n",
       "          1.1201e-02, -7.7841e-04],\n",
       "        ...,\n",
       "        [ 2.1588e-02,  1.9267e-02, -6.7398e-03,  ...,  1.6342e-03,\n",
       "          6.1696e-03,  4.0398e-03],\n",
       "        [ 3.0218e-03, -6.5372e-03,  2.0569e-03,  ...,  2.6656e-02,\n",
       "         -5.2108e-03,  5.8682e-03],\n",
       "        [-1.0355e-02, -5.2145e-03, -7.2701e-04,  ...,  2.3507e-05,\n",
       "          1.8933e-03,  2.7339e-02]])"
      ]
     },
     "execution_count": 14,
     "metadata": {},
     "output_type": "execute_result"
    }
   ],
   "source": [
    "# sample from random normal with standard dev = 0.01\n",
    "model.fc1.weight.data.normal_(std=0.01)"
   ]
  },
  {
   "cell_type": "markdown",
   "metadata": {},
   "source": [
    "### Forward pass\n",
    "\n",
    "Now that we have a network, let's see what happens when we pass in an image."
   ]
  },
  {
   "cell_type": "code",
   "execution_count": 15,
   "metadata": {},
   "outputs": [
    {
     "data": {
      "image/png": "[encoded data removed]",
      "text/plain": [
       "<Figure size 432x648 with 2 Axes>"
      ]
     },
     "metadata": {
      "image/png": {
       "height": 226,
       "width": 423
      },
      "needs_background": "light"
     },
     "output_type": "display_data"
    }
   ],
   "source": [
    "# Grab some data \n",
    "dataiter = iter(trainloader)\n",
    "images, labels = dataiter.next()\n",
    "\n",
    "# Resize images into a 1D vector, new shape is (batch size, color channels, image pixels) \n",
    "images.resize_(64, 1, 784)\n",
    "# or images.resize_(images.shape[0], 1, 784) to automatically get batch size\n",
    "\n",
    "# Forward pass through the network\n",
    "img_idx = 0\n",
    "ps = model.forward(images[img_idx,:])\n",
    "\n",
    "img = images[img_idx]\n",
    "helper.view_classify(img.view(1, 28, 28), ps)"
   ]
  },
  {
   "cell_type": "markdown",
   "metadata": {},
   "source": [
    "As you can see above, our network has basically no idea what this digit is. It's because we haven't trained it yet, all the weights are random!\n",
    "\n",
    "### Using `nn.Sequential`\n",
    "\n",
    "PyTorch provides a convenient way to build networks like this where a tensor is passed sequentially through operations, `nn.Sequential` ([documentation](https://pytorch.org/docs/master/nn.html#torch.nn.Sequential)). Using this to build the equivalent network:"
   ]
  },
  {
   "cell_type": "code",
   "execution_count": 16,
   "metadata": {},
   "outputs": [
    {
     "name": "stdout",
     "output_type": "stream",
     "text": [
      "Sequential(\n",
      "  (0): Linear(in_features=784, out_features=128, bias=True)\n",
      "  (1): ReLU()\n",
      "  (2): Linear(in_features=128, out_features=64, bias=True)\n",
      "  (3): ReLU()\n",
      "  (4): Linear(in_features=64, out_features=10, bias=True)\n",
      "  (5): Softmax()\n",
      ")\n"
     ]
    },
    {
     "data": {
      "image/png": "[encoded data removed]",
      "text/plain": [
       "<Figure size 432x648 with 2 Axes>"
      ]
     },
     "metadata": {
      "image/png": {
       "height": 226,
       "width": 423
      },
      "needs_background": "light"
     },
     "output_type": "display_data"
    }
   ],
   "source": [
    "# Hyperparameters for our network\n",
    "input_size = 784\n",
    "hidden_sizes = [128, 64]\n",
    "output_size = 10\n",
    "\n",
    "# Build a feed-forward network\n",
    "model = nn.Sequential(nn.Linear(input_size, hidden_sizes[0]),\n",
    "                      nn.ReLU(),\n",
    "                      nn.Linear(hidden_sizes[0], hidden_sizes[1]),\n",
    "                      nn.ReLU(),\n",
    "                      nn.Linear(hidden_sizes[1], output_size),\n",
    "                      nn.Softmax(dim=1))\n",
    "print(model)\n",
    "\n",
    "# Forward pass through the network and display output\n",
    "images, labels = next(iter(trainloader))\n",
    "images.resize_(images.shape[0], 1, 784)\n",
    "ps = model.forward(images[0,:])\n",
    "helper.view_classify(images[0].view(1, 28, 28), ps)"
   ]
  },
  {
   "cell_type": "markdown",
   "metadata": {},
   "source": [
    "The operations are availble by passing in the appropriate index. For example, if you want to get first Linear operation and look at the weights, you'd use `model[0]`."
   ]
  },
  {
   "cell_type": "code",
   "execution_count": 17,
   "metadata": {},
   "outputs": [
    {
     "name": "stdout",
     "output_type": "stream",
     "text": [
      "Linear(in_features=784, out_features=128, bias=True)\n"
     ]
    },
    {
     "data": {
      "text/plain": [
       "Parameter containing:\n",
       "tensor([[ 0.0340, -0.0082, -0.0029,  ..., -0.0051,  0.0236,  0.0094],\n",
       "        [-0.0346, -0.0216,  0.0271,  ...,  0.0215,  0.0191,  0.0025],\n",
       "        [-0.0210, -0.0277, -0.0205,  ..., -0.0262, -0.0346, -0.0352],\n",
       "        ...,\n",
       "        [-0.0171,  0.0173,  0.0234,  ..., -0.0065,  0.0092,  0.0167],\n",
       "        [ 0.0253,  0.0187, -0.0052,  ..., -0.0272, -0.0182, -0.0303],\n",
       "        [-0.0252,  0.0074,  0.0329,  ...,  0.0019,  0.0112,  0.0031]],\n",
       "       requires_grad=True)"
      ]
     },
     "execution_count": 17,
     "metadata": {},
     "output_type": "execute_result"
    }
   ],
   "source": [
    "print(model[0])\n",
    "model[0].weight"
   ]
  },
  {
   "cell_type": "markdown",
   "metadata": {},
   "source": [
    "You can also pass in an `OrderedDict` to name the individual layers and operations, instead of using incremental integers. Note that dictionary keys must be unique, so _each operation must have a different name_."
   ]
  },
  {
   "cell_type": "code",
   "execution_count": 18,
   "metadata": {},
   "outputs": [
    {
     "data": {
      "text/plain": [
       "Sequential(\n",
       "  (fc1): Linear(in_features=784, out_features=128, bias=True)\n",
       "  (relu1): ReLU()\n",
       "  (fc2): Linear(in_features=128, out_features=64, bias=True)\n",
       "  (relu2): ReLU()\n",
       "  (output): Linear(in_features=64, out_features=10, bias=True)\n",
       "  (softmax): Softmax()\n",
       ")"
      ]
     },
     "execution_count": 18,
     "metadata": {},
     "output_type": "execute_result"
    }
   ],
   "source": [
    "from collections import OrderedDict\n",
    "model = nn.Sequential(OrderedDict([\n",
    "                      ('fc1', nn.Linear(input_size, hidden_sizes[0])),\n",
    "                      ('relu1', nn.ReLU()),\n",
    "                      ('fc2', nn.Linear(hidden_sizes[0], hidden_sizes[1])),\n",
    "                      ('relu2', nn.ReLU()),\n",
    "                      ('output', nn.Linear(hidden_sizes[1], output_size)),\n",
    "                      ('softmax', nn.Softmax(dim=1))]))\n",
    "model"
   ]
  },
  {
   "cell_type": "markdown",
   "metadata": {},
   "source": [
    "Now you can access layers either by integer or the name"
   ]
  },
  {
   "cell_type": "code",
   "execution_count": 19,
   "metadata": {},
   "outputs": [
    {
     "name": "stdout",
     "output_type": "stream",
     "text": [
      "Linear(in_features=784, out_features=128, bias=True)\n",
      "Linear(in_features=784, out_features=128, bias=True)\n"
     ]
    }
   ],
   "source": [
    "print(model[0])\n",
    "print(model.fc1)"
   ]
  },
  {
   "cell_type": "markdown",
   "metadata": {},
   "source": [
    "In the next notebook, we'll see how we can train a neural network to accuractly predict the numbers appearing in the MNIST images."
   ]
  }
 ],
 "metadata": {
  "kernelspec": {
   "display_name": "Python 3",
   "language": "python",
   "name": "python3"
  },
  "language_info": {
   "codemirror_mode": {
    "name": "ipython",
    "version": 3
   },
   "file_extension": ".py",
   "mimetype": "text/x-python",
   "name": "python",
   "nbconvert_exporter": "python",
   "pygments_lexer": "ipython3",
   "version": "3.7.3"
  }
 },
 "nbformat": 4,
 "nbformat_minor": 2
}
