{
 "cells": [
  {
   "cell_type": "markdown",
   "metadata": {},
   "source": [
    "# Neural networks with PyTorch\n",
    "\n",
    "Deep learning networks tend to be massive with dozens or hundreds of layers, that's where the term \"deep\" comes from. You can build one of these deep networks using only weight matrices as we did in the previous notebook, but in general it's very cumbersome and difficult to implement. PyTorch has a nice module `nn` that provides a nice way to efficiently build large neural networks."
   ]
  },
  {
   "cell_type": "code",
   "execution_count": 1,
   "metadata": {},
   "outputs": [],
   "source": [
    "# Import necessary packages\n",
    "\n",
    "%matplotlib inline\n",
    "%config InlineBackend.figure_format = 'retina'\n",
    "\n",
    "import numpy as np\n",
    "import torch\n",
    "\n",
    "import helper\n",
    "\n",
    "import matplotlib.pyplot as plt"
   ]
  },
  {
   "cell_type": "markdown",
   "metadata": {},
   "source": [
    "\n",
    "Now we're going to build a larger network that can solve a (formerly) difficult problem, identifying text in an image. Here we'll use the MNIST dataset which consists of greyscale handwritten digits. Each image is 28x28 pixels, you can see a sample below\n",
    "\n",
    "<img src='assets/mnist.png'>\n",
    "\n",
    "Our goal is to build a neural network that can take one of these images and predict the digit in the image.\n",
    "\n",
    "First up, we need to get our dataset. This is provided through the `torchvision` package. The code below will download the MNIST dataset, then create training and test datasets for us. Don't worry too much about the details here, you'll learn more about this later."
   ]
  },
  {
   "cell_type": "code",
   "execution_count": 2,
   "metadata": {},
   "outputs": [
    {
     "name": "stderr",
     "output_type": "stream",
     "text": [
      "\r",
      "0it [00:00, ?it/s]"
     ]
    },
    {
     "name": "stdout",
     "output_type": "stream",
     "text": [
      "Downloading http://yann.lecun.com/exdb/mnist/train-images-idx3-ubyte.gz to /home/peter/.pytorch/MNIST_data/MNIST/raw/train-images-idx3-ubyte.gz\n"
     ]
    },
    {
     "name": "stderr",
     "output_type": "stream",
     "text": [
      "100%|█████████▉| 9912320/9912422 [00:53<00:00, 188729.29it/s]"
     ]
    },
    {
     "name": "stdout",
     "output_type": "stream",
     "text": [
      "Extracting /home/peter/.pytorch/MNIST_data/MNIST/raw/train-images-idx3-ubyte.gz\n"
     ]
    },
    {
     "name": "stderr",
     "output_type": "stream",
     "text": [
      "\n",
      "0it [00:00, ?it/s]\u001b[A"
     ]
    },
    {
     "name": "stdout",
     "output_type": "stream",
     "text": [
      "Downloading http://yann.lecun.com/exdb/mnist/train-labels-idx1-ubyte.gz to /home/peter/.pytorch/MNIST_data/MNIST/raw/train-labels-idx1-ubyte.gz\n"
     ]
    },
    {
     "name": "stderr",
     "output_type": "stream",
     "text": [
      "\n",
      "  0%|          | 0/28881 [00:00<?, ?it/s]\u001b[A\n",
      " 57%|█████▋    | 16384/28881 [00:00<00:00, 53464.21it/s]\u001b[A\n",
      "32768it [00:00, 33209.27it/s]                           \u001b[A\n",
      "0it [00:00, ?it/s]\u001b[A"
     ]
    },
    {
     "name": "stdout",
     "output_type": "stream",
     "text": [
      "Extracting /home/peter/.pytorch/MNIST_data/MNIST/raw/train-labels-idx1-ubyte.gz\n",
      "Downloading http://yann.lecun.com/exdb/mnist/t10k-images-idx3-ubyte.gz to /home/peter/.pytorch/MNIST_data/MNIST/raw/t10k-images-idx3-ubyte.gz\n"
     ]
    },
    {
     "name": "stderr",
     "output_type": "stream",
     "text": [
      "\n",
      "  0%|          | 0/1648877 [00:00<?, ?it/s]\u001b[A\n",
      "  1%|          | 16384/1648877 [00:00<00:20, 80740.25it/s]\u001b[A\n",
      "  2%|▏         | 32768/1648877 [00:01<00:23, 69802.77it/s]\u001b[A\n",
      "  3%|▎         | 49152/1648877 [00:01<00:25, 62039.51it/s]\u001b[A\n",
      "  4%|▍         | 65536/1648877 [00:01<00:25, 60911.42it/s]\u001b[A\n",
      "  5%|▌         | 90112/1648877 [00:02<00:23, 65481.98it/s]\u001b[A\n",
      "  6%|▋         | 106496/1648877 [00:02<00:25, 61374.23it/s]\u001b[A\n",
      "  8%|▊         | 131072/1648877 [00:02<00:23, 65674.83it/s]\u001b[A\n",
      "  9%|▉         | 155648/1648877 [00:02<00:19, 78045.83it/s]\u001b[A\n",
      " 10%|█         | 172032/1648877 [00:03<00:22, 66702.66it/s]\u001b[A\n",
      " 12%|█▏        | 196608/1648877 [00:03<00:20, 70275.59it/s]\u001b[A\n",
      " 14%|█▍        | 229376/1648877 [00:03<00:18, 78206.99it/s]\u001b[A\n",
      " 15%|█▍        | 245760/1648877 [00:04<00:36, 38757.64it/s]\u001b[A\n",
      " 16%|█▋        | 270336/1648877 [00:04<00:30, 45799.05it/s]\u001b[A\n",
      " 17%|█▋        | 286720/1648877 [00:05<00:28, 47910.72it/s]\u001b[A\n",
      " 19%|█▉        | 311296/1648877 [00:05<00:24, 54362.57it/s]\u001b[A\n",
      " 21%|██        | 344064/1648877 [00:05<00:20, 63779.49it/s]\u001b[A\n",
      " 22%|██▏       | 368640/1648877 [00:06<00:18, 67637.50it/s]\u001b[A\n",
      " 24%|██▍       | 401408/1648877 [00:06<00:16, 76193.74it/s]\u001b[A\n",
      " 26%|██▋       | 434176/1648877 [00:06<00:14, 83008.38it/s]\u001b[A\n",
      " 28%|██▊       | 458752/1648877 [00:07<00:14, 81597.86it/s]\u001b[A\n",
      " 30%|██▉       | 491520/1648877 [00:07<00:11, 97575.80it/s]\u001b[A\n",
      " 32%|███▏      | 524288/1648877 [00:07<00:11, 98644.73it/s]\u001b[A\n",
      " 33%|███▎      | 548864/1648877 [00:07<00:11, 99281.09it/s]\u001b[A\n",
      " 35%|███▌      | 581632/1648877 [00:08<00:11, 95878.94it/s]\u001b[A\n",
      " 37%|███▋      | 614400/1648877 [00:08<00:10, 99188.09it/s]\u001b[A\n",
      " 39%|███▉      | 638976/1648877 [00:08<00:10, 92902.69it/s]\u001b[A\n",
      " 41%|████      | 671744/1648877 [00:09<00:10, 94667.75it/s]\u001b[A\n",
      " 43%|████▎     | 704512/1648877 [00:09<00:09, 99983.25it/s]\u001b[A\n",
      " 45%|████▍     | 737280/1648877 [00:09<00:08, 109188.19it/s]\u001b[A\n",
      " 47%|████▋     | 778240/1648877 [00:10<00:08, 108662.32it/s]\u001b[A\n",
      " 49%|████▉     | 811008/1648877 [00:10<00:07, 108411.49it/s]\u001b[A\n",
      " 52%|█████▏    | 860160/1648877 [00:10<00:06, 119740.88it/s]\u001b[A\n",
      " 55%|█████▌    | 909312/1648877 [00:11<00:05, 129522.03it/s]\u001b[A\n",
      " 58%|█████▊    | 958464/1648877 [00:11<00:05, 137824.93it/s]\u001b[A\n",
      " 62%|██████▏   | 1024000/1648877 [00:11<00:03, 168523.35it/s]\u001b[A\n",
      " 67%|██████▋   | 1097728/1648877 [00:11<00:02, 203457.40it/s]\u001b[A\n",
      " 71%|███████   | 1171456/1648877 [00:12<00:02, 205231.61it/s]\u001b[A\n",
      " 76%|███████▌  | 1253376/1648877 [00:12<00:01, 221433.01it/s]\u001b[A\n",
      " 81%|████████▏ | 1343488/1648877 [00:12<00:01, 267503.80it/s]\u001b[A\n",
      " 88%|████████▊ | 1449984/1648877 [00:12<00:00, 316379.87it/s]\u001b[A\n",
      " 95%|█████████▍| 1564672/1648877 [00:13<00:00, 294940.94it/s]\u001b[A"
     ]
    },
    {
     "name": "stdout",
     "output_type": "stream",
     "text": [
      "Extracting /home/peter/.pytorch/MNIST_data/MNIST/raw/t10k-images-idx3-ubyte.gz\n"
     ]
    },
    {
     "name": "stderr",
     "output_type": "stream",
     "text": [
      "\n",
      "\n",
      "0it [00:00, ?it/s]\u001b[A\u001b[A"
     ]
    },
    {
     "name": "stdout",
     "output_type": "stream",
     "text": [
      "Downloading http://yann.lecun.com/exdb/mnist/t10k-labels-idx1-ubyte.gz to /home/peter/.pytorch/MNIST_data/MNIST/raw/t10k-labels-idx1-ubyte.gz\n"
     ]
    },
    {
     "name": "stderr",
     "output_type": "stream",
     "text": [
      "\n",
      "\n",
      "  0%|          | 0/4542 [00:00<?, ?it/s]\u001b[A\u001b[A\n",
      "\n",
      "8192it [00:00, 14517.11it/s]            \u001b[A\u001b[A"
     ]
    },
    {
     "name": "stdout",
     "output_type": "stream",
     "text": [
      "Extracting /home/peter/.pytorch/MNIST_data/MNIST/raw/t10k-labels-idx1-ubyte.gz\n",
      "Processing...\n",
      "Done!\n"
     ]
    },
    {
     "name": "stderr",
     "output_type": "stream",
     "text": [
      "9920512it [01:10, 188729.29it/s]                             \n",
      "1654784it [00:25, 294940.94it/s]                             \u001b[A"
     ]
    }
   ],
   "source": [
    "### Run this cell\n",
    "\n",
    "from torchvision import datasets, transforms\n",
    "\n",
    "# Define a transform to normalize the data\n",
    "transform = transforms.Compose([transforms.ToTensor(),\n",
    "                              transforms.Normalize((0.5,), (0.5,)),\n",
    "                              ])\n",
    "\n",
    "# Download and load the training data\n",
    "trainset = datasets.MNIST('~/.pytorch/MNIST_data/', download=True, train=True, transform=transform)\n",
    "trainloader = torch.utils.data.DataLoader(trainset, batch_size=64, shuffle=True)"
   ]
  },
  {
   "cell_type": "markdown",
   "metadata": {},
   "source": [
    "We have the training data loaded into `trainloader` and we make that an iterator with `iter(trainloader)`. Later, we'll use this to loop through the dataset for training, like\n",
    "\n",
    "```python\n",
    "for image, label in trainloader:\n",
    "    ## do things with images and labels\n",
    "```\n",
    "\n",
    "You'll notice I created the `trainloader` with a batch size of 64, and `shuffle=True`. The batch size is the number of images we get in one iteration from the data loader and pass through our network, often called a *batch*. And `shuffle=True` tells it to shuffle the dataset every time we start going through the data loader again. But here I'm just grabbing the first batch so we can check out the data. We can see below that `images` is just a tensor with size `(64, 1, 28, 28)`. So, 64 images per batch, 1 color channel, and 28x28 images."
   ]
  },
  {
   "cell_type": "code",
   "execution_count": 3,
   "metadata": {},
   "outputs": [
    {
     "name": "stdout",
     "output_type": "stream",
     "text": [
      "<class 'torch.Tensor'>\n",
      "torch.Size([64, 1, 28, 28])\n",
      "torch.Size([64])\n"
     ]
    }
   ],
   "source": [
    "dataiter = iter(trainloader)\n",
    "images, labels = dataiter.next()\n",
    "print(type(images))\n",
    "print(images.shape)\n",
    "print(labels.shape)"
   ]
  },
  {
   "cell_type": "markdown",
   "metadata": {},
   "source": [
    "This is what one of the images looks like. "
   ]
  },
  {
   "cell_type": "code",
   "execution_count": 4,
   "metadata": {},
   "outputs": [
    {
     "data": {
      "image/png": "[encoded data removed]",
      "text/plain": [
       "<Figure size 432x288 with 1 Axes>"
      ]
     },
     "metadata": {
      "image/png": {
       "height": 250,
       "width": 253
      },
      "needs_background": "light"
     },
     "output_type": "display_data"
    }
   ],
   "source": [
    "plt.imshow(images[1].numpy().squeeze(), cmap='Greys_r');"
   ]
  },
  {
   "cell_type": "markdown",
   "metadata": {},
   "source": [
    "First, let's try to build a simple network for this dataset using weight matrices and matrix multiplications. Then, we'll see how to do it using PyTorch's `nn` module which provides a much more convenient and powerful method for defining network architectures.\n",
    "\n",
    "The networks you've seen so far are called *fully-connected* or *dense* networks. Each unit in one layer is connected to each unit in the next layer. In fully-connected networks, the input to each layer must be a one-dimensional vector (which can be stacked into a 2D tensor as a batch of multiple examples). However, our images are 28x28 2D tensors, so we need to convert them into 1D vectors. Thinking about sizes, we need to convert the batch of images with shape `(64, 1, 28, 28)` to a have a shape of `(64, 784)`, 784 is 28 times 28. This is typically called *flattening*, we flattened the 2D images into 1D vectors.\n",
    "\n",
    "Previously you built a network with one output unit. Here we need 10 output units, one for each digit. We want our network to predict the digit shown in an image, so what we'll do is calculate probabilities that the image is of any one digit or class. This ends up being a discrete probability distribution over the classes (digits) that tells us the most likely class for the image. That means we need 10 output units for the 10 classes (digits). We'll see how to convert the network output into a probability distribution next.\n",
    "\n",
    "> **Exercise:** Flatten the batch of images `images`. Then build a multi-layer network with 784 input units, 256 hidden units, and 10 output units using random tensors for the weights and biases. For now, use a sigmoid activation for the hidden layer. Leave the output layer without an activation, we'll add one that gives us a probability distribution next."
   ]
  },
  {
   "cell_type": "code",
   "execution_count": 15,
   "metadata": {},
   "outputs": [
    {
     "data": {
      "text/plain": [
       "tensor([[  2.3129,   9.9905,  -6.0818,   0.2114,  16.5809,   5.1217, -12.0011,\n",
       "          -0.2671,  -2.3070,   2.3173],\n",
       "        [ -0.5782,  20.1822,  -1.9919,   1.7310,  15.6793,   7.6437,   5.7928,\n",
       "          -0.9287,  -3.9111,  -3.3166],\n",
       "        [ -1.9976,  13.5507,   2.0240,  -1.8255,   7.7455,   3.2753,  -7.7436,\n",
       "           5.0575,  -8.2196,  -1.8429],\n",
       "        [ -0.2208,   5.6149,  -8.4362,   2.6442,  16.0044,   4.6047,  -6.8737,\n",
       "           3.5490,   9.3225,  -1.0482],\n",
       "        [-10.8476,  -5.6043,   3.7592, -10.2486,   3.7351,   3.1714,   0.7974,\n",
       "           6.0974,  -0.9920,   3.6014],\n",
       "        [  2.4106,  16.7924,  -2.8300,   1.9836,  15.9754,  12.6023,  -0.2241,\n",
       "           7.8117,  -6.6517,  -0.7870],\n",
       "        [  0.5722,  16.4903,  -4.4415,  -7.1312,  16.5713,   4.2501,  -9.2842,\n",
       "          -6.6371,  -9.6902,  -9.9143],\n",
       "        [  1.5689,  22.9384,  -2.2346,  -1.0242,   4.1933,   2.0708, -12.0282,\n",
       "          11.7324,   4.1431,   1.3439],\n",
       "        [  1.2540,  20.3409,  -0.7658,  11.3743,  10.6868,   3.1077,  -1.2248,\n",
       "           4.2675,   1.5442,  -5.3072],\n",
       "        [  0.3198,  12.9328,  -0.9897,  -2.6244,  19.9758,   5.8450,  -9.8562,\n",
       "           0.0703,  -5.1160,  -6.1679],\n",
       "        [ -2.6278,  10.2043,   1.8084,   2.5600,   9.7009,   4.0190,   0.6103,\n",
       "           6.7283,   2.8388,  -7.7022],\n",
       "        [ -5.3305,   8.3293,  -4.6027,  15.1562,  13.1771,   3.4598,  -1.7344,\n",
       "           8.2166,  -7.0103,  -5.5412],\n",
       "        [ -0.7671,  11.9301,  -9.5583,  -1.9126,  11.1492,   2.3836,   5.0064,\n",
       "           9.1279,  -0.8718,   5.2842],\n",
       "        [  6.9989,  11.8813,  -2.8768,  -0.8748,   9.3565,   2.9598, -15.6004,\n",
       "           2.2275,  -9.0899,   2.3621],\n",
       "        [ -7.8654,  12.7191,  -6.4311,  -6.6678,  10.6855,  -1.3648, -12.0040,\n",
       "          11.6216,   2.6883,  -0.7967],\n",
       "        [ -7.2202,  14.5597,   2.5327,  -9.1179,  -0.9802,   8.6804,   0.9308,\n",
       "          14.7225,  -3.9011,  -6.4864],\n",
       "        [  1.0262,  19.1472,  -1.9854,  -1.1383,  16.9518,  -5.4737,   4.9028,\n",
       "           1.2205,  -3.3569,  -2.1668],\n",
       "        [ -2.4112,  16.3150,  -1.2866,   1.5530,   9.9037,   5.6540,  10.0193,\n",
       "          15.0481,  -2.7592,  -2.1812],\n",
       "        [ -5.4152,   8.3684,  -1.5554,  -7.5394,   8.7555,  11.5979,   3.2198,\n",
       "           5.3709,  -2.5843,  -0.8463],\n",
       "        [-14.6950,   4.6564,  -5.2147,   3.0998,   8.0378,   1.2717,   5.3565,\n",
       "          10.5205,  -9.4477, -11.6005],\n",
       "        [ -2.7907,  13.1366,   3.9954,  -2.2004,  26.9952,  -6.6063,  -3.2398,\n",
       "          11.6359,  -0.7891,  -3.5290],\n",
       "        [ -3.2645,   3.4849,   8.1162,  10.9657,  11.7832,   8.9373,  -3.6250,\n",
       "           1.6526,  -9.2387,  -3.5244],\n",
       "        [  1.0439,  13.5603,  -1.7866,   1.2097,  20.5113,   4.2785,  -8.8770,\n",
       "          -2.1909,  -4.5914,  -3.4214],\n",
       "        [-12.5771,   7.6002,   1.3118,  -0.1255,   7.7031,   9.5932,  -1.8582,\n",
       "           8.8216, -10.1293,  -5.1539],\n",
       "        [  0.4075,  14.7645,   5.0058,   2.5407,   9.2272,   1.1069,  -7.6360,\n",
       "          10.7137, -10.1514,  -0.1037],\n",
       "        [  2.1481,   9.0781,   6.7477,  -3.8723,  15.9859,   2.6160,  -3.6108,\n",
       "          12.9940,  -6.0183,  -1.3706],\n",
       "        [-13.3167,  17.0403,  -1.7588,  -2.2259,   7.4655,  15.3200,  -4.2878,\n",
       "          -4.9223,   0.4161,  -6.1523],\n",
       "        [ -6.4648,  19.6192,  -9.9498,  -5.5972,  15.9493,   4.0772,   4.6457,\n",
       "          12.3156,   6.7447,   1.8536],\n",
       "        [ -2.5529,   2.1852,  -0.8824,   9.8322,  19.8315,   2.0286,  -6.4149,\n",
       "          15.1914,  -2.7457,  -5.1199],\n",
       "        [  4.9779,  22.0277,   3.2844,   2.8886,  13.7352,   8.7726,  -3.1348,\n",
       "          12.9528,   1.6490,  -2.6528],\n",
       "        [  1.0940,  13.4344,   0.4921,   4.4627,  10.5213,   5.6109,   5.0987,\n",
       "           0.8158, -11.1896,  -7.1950],\n",
       "        [ -8.0643,  12.7479,  -2.1379,  -5.5929,  11.1359,  11.1871,  -7.3508,\n",
       "           6.3509,  -5.9297,  -6.1815],\n",
       "        [-12.4546,  12.1786,   0.5247,  -3.4377,   9.5244,   1.9482,   5.4667,\n",
       "           3.8296,  -2.3132,  -0.0920],\n",
       "        [  1.2514,  14.3980,  -4.0431,  -2.8484,  15.3849,   1.6577,  -1.1499,\n",
       "           2.6809,  -5.2134,  -6.5176],\n",
       "        [ -5.5045,  12.9234,  -7.1752,   1.2221,  18.8388,   4.5342,  -1.4908,\n",
       "           2.3400,  -1.0429,  -4.3737],\n",
       "        [ -2.6805,   1.6479,   0.6865,   2.4260,  10.3398,   7.8182,  -2.1368,\n",
       "           7.4232,   4.0578,  -3.7333],\n",
       "        [ -1.0063,  10.2162,  -2.6905,   0.2792,   4.7661,   3.0658,   3.1391,\n",
       "           2.2279,  -8.3284,  -5.2390],\n",
       "        [ -8.9027,   1.6673,  -5.5089,   4.9412,  13.4198,   6.8483,   5.0576,\n",
       "           0.7456,   0.1552, -11.4220],\n",
       "        [ -6.5496,  14.2662,  -3.2653,  -3.7191,   7.4992,   3.1221,  -7.1967,\n",
       "           3.5018,  -3.8372,  -1.6002],\n",
       "        [ -1.5381,  10.4900,   6.0690,   1.0782,   8.5882,   2.7703,  -3.4407,\n",
       "          16.1545,   2.4833,  -7.8152],\n",
       "        [ -6.8344,  10.0346,  -1.2046,   6.3656,  20.8429,   1.3604,  -7.9085,\n",
       "           4.1249,  -4.0255,   2.4319],\n",
       "        [ -4.1042,  10.2110,  -2.5830,   0.4689,   4.0334,   5.2441, -11.5436,\n",
       "           2.5557,  -2.5609,  -5.7804],\n",
       "        [ -5.4447,   6.4060,  -0.8331,  -1.7588,   7.4238,   8.9990,  -6.9290,\n",
       "          -0.0356,  -9.8562,   2.9709],\n",
       "        [  3.0367,  21.7795,  -4.9313,  -2.2292,  22.1495,   7.1144, -10.1093,\n",
       "          -4.1648,  -2.7977,  -7.0146],\n",
       "        [ -3.9482,   6.7067,  -1.0069,   0.9757,   9.6384,  -3.1251,   1.7471,\n",
       "          11.0659,  -3.8301,   0.4801],\n",
       "        [ -6.5486,   3.2829, -13.2665,  -1.9273,   6.6049,   8.3278,  -3.3112,\n",
       "           7.1061,   0.4924,  -6.2750],\n",
       "        [ -1.3086,  13.4456,  -1.6542,   1.7262,   3.6582,   4.1969,  -5.9125,\n",
       "           4.5640,  -7.0689,   8.9201],\n",
       "        [ -6.3606,   1.7406,   1.8703,  -2.4521,   8.3806,   2.8898,  -1.9291,\n",
       "          13.1844,  -0.2054,   1.7753],\n",
       "        [ -0.7661,   9.5592,  -2.9381,   0.9040,  12.0823,   3.9557,  -2.8376,\n",
       "          -1.6236,  -2.9945,  -6.7904],\n",
       "        [ -5.4952,  19.3255,  -2.6100,  -2.1954,   7.5845,  -5.7585,  -0.7961,\n",
       "           3.3073,  -3.0332,   1.6403],\n",
       "        [ -3.6170,  -3.7971,   5.6113,   8.7154,  12.2696,  -2.4031,  -4.7868,\n",
       "           9.8803,  -5.3082,  -4.4447],\n",
       "        [-15.6575,   5.5459,   9.2578,  -7.4988,  12.8983,  -0.3662,   1.6665,\n",
       "           4.7315,  -2.0411,   1.8772],\n",
       "        [ -6.9749,   7.4443,   8.7081,   3.2711,   6.2893,   2.7763,  -4.7429,\n",
       "           7.9983,  -4.4469,  -6.3195],\n",
       "        [ -5.2833,  10.6307,   9.2022,  -0.8178,   7.8102,   8.9148,  -1.9334,\n",
       "           8.4108,  -4.6535,   2.4272],\n",
       "        [ -8.9033,  10.6506,   0.5050,   3.2744,   5.8643,   7.2206,  -2.2684,\n",
       "           6.5332,  -3.2315,  -3.0565],\n",
       "        [ -0.8503,  12.2273,   0.5712,  -8.4151,  12.8685,   3.4967,  -1.5192,\n",
       "           9.7733,  -5.6247,  -2.6370],\n",
       "        [ -7.6744,  10.6973,   0.5314,  -2.4935,  18.2059,   5.2899,   4.6472,\n",
       "          -0.1878,  -6.8842,  -6.4600],\n",
       "        [ -9.0366,  -3.1403,  10.1724,   3.3643,   7.4091,  -5.7029,  -2.1341,\n",
       "          10.6082, -10.4687,   0.4104],\n",
       "        [ -3.8326,  20.6349,   3.2412,   6.5993,  10.3485,   4.3009,  -1.1587,\n",
       "           8.9122,   4.0841,  -3.9890],\n",
       "        [ -7.5794,   4.1722,   0.7608,   5.2361,  14.6816,   1.5002, -10.7480,\n",
       "          -5.7740,  -0.3593,  -9.3772],\n",
       "        [ -4.5990,  14.4053,  -5.4738,  -0.3549,  16.5345,   0.9194,   0.2197,\n",
       "          -0.1450,  -8.8479,  -6.9428],\n",
       "        [ -0.5864,  15.5536,   0.2394,   1.8909,  10.1755,   3.3726,  -3.0998,\n",
       "           8.1193,  -4.5902,  -5.0017],\n",
       "        [ -0.3430,  18.2222,  -1.8466,   2.6747,   8.5933,   5.6480,   7.1229,\n",
       "          -1.6001,  -7.3927,  -8.1285],\n",
       "        [  0.1752,  20.8116,  -3.1744,   3.6151,  10.5115,   2.6706,  -4.1489,\n",
       "          -2.9049, -10.9968,  -3.4486]])"
      ]
     },
     "execution_count": 15,
     "metadata": {},
     "output_type": "execute_result"
    }
   ],
   "source": [
    "## Your solution\n",
    "torch.manual_seed(42)\n",
    "\n",
    "n_input = 784\n",
    "n_hidden = 256\n",
    "n_output = 10\n",
    "\n",
    "def activation(X):\n",
    "    return 1 / (1 + torch.exp(-X))\n",
    "\n",
    "X = images.view(images.shape[0], n_input)\n",
    "W1 = torch.randn(n_input,n_hidden)\n",
    "W2 = torch.randn(n_hidden, n_output)\n",
    "B1 = torch.randn(1, n_hidden)\n",
    "B2 = torch.randn(1, n_output)\n",
    "\n",
    "h = activation(torch.mm(X, W1) + B1)\n",
    "out = torch.mm(h, W2) + B2\n",
    "# output of your network, should have shape (64,10)\n",
    "out"
   ]
  },
  {
   "cell_type": "markdown",
   "metadata": {},
   "source": [
    "Now we have 10 outputs for our network. We want to pass in an image to our network and get out a probability distribution over the classes that tells us the likely class(es) the image belongs to. Something that looks like this:\n",
    "<img src='assets/image_distribution.png' width=500px>\n",
    "\n",
    "Here we see that the probability for each class is roughly the same. This is representing an untrained network, it hasn't seen any data yet so it just returns a uniform distribution with equal probabilities for each class.\n",
    "\n",
    "To calculate this probability distribution, we often use the [**softmax** function](https://en.wikipedia.org/wiki/Softmax_function). Mathematically this looks like\n",
    "\n",
    "$$\n",
    "\\Large \\sigma(x_i) = \\cfrac{e^{x_i}}{\\sum_k^K{e^{x_k}}}\n",
    "$$\n",
    "\n",
    "What this does is squish each input $x_i$ between 0 and 1 and normalizes the values to give you a proper probability distribution where the probabilites sum up to one.\n",
    "\n",
    "> **Exercise:** Implement a function `softmax` that performs the softmax calculation and returns probability distributions for each example in the batch. Note that you'll need to pay attention to the shapes when doing this. If you have a tensor `a` with shape `(64, 10)` and a tensor `b` with shape `(64,)`, doing `a/b` will give you an error because PyTorch will try to do the division across the columns (called broadcasting) but you'll get a size mismatch. The way to think about this is for each of the 64 examples, you only want to divide by one value, the sum in the denominator. So you need `b` to have a shape of `(64, 1)`. This way PyTorch will divide the 10 values in each row of `a` by the one value in each row of `b`. Pay attention to how you take the sum as well. You'll need to define the `dim` keyword in `torch.sum`. Setting `dim=0` takes the sum across the rows while `dim=1` takes the sum across the columns."
   ]
  },
  {
   "cell_type": "code",
   "execution_count": 24,
   "metadata": {},
   "outputs": [
    {
     "name": "stdout",
     "output_type": "stream",
     "text": [
      "torch.Size([64, 10])\n",
      "tensor([1.0000, 1.0000, 1.0000, 1.0000, 1.0000, 1.0000, 1.0000, 1.0000, 1.0000,\n",
      "        1.0000, 1.0000, 1.0000, 1.0000, 1.0000, 1.0000, 1.0000, 1.0000, 1.0000,\n",
      "        1.0000, 1.0000, 1.0000, 1.0000, 1.0000, 1.0000, 1.0000, 1.0000, 1.0000,\n",
      "        1.0000, 1.0000, 1.0000, 1.0000, 1.0000, 1.0000, 1.0000, 1.0000, 1.0000,\n",
      "        1.0000, 1.0000, 1.0000, 1.0000, 1.0000, 1.0000, 1.0000, 1.0000, 1.0000,\n",
      "        1.0000, 1.0000, 1.0000, 1.0000, 1.0000, 1.0000, 1.0000, 1.0000, 1.0000,\n",
      "        1.0000, 1.0000, 1.0000, 1.0000, 1.0000, 1.0000, 1.0000, 1.0000, 1.0000,\n",
      "        1.0000])\n"
     ]
    }
   ],
   "source": [
    "def softmax(x):\n",
    "    return torch.exp(x) / torch.sum(torch.exp(x), dim=1).view(-1,1)\n",
    "    ## TODO: Implement the softmax function here\n",
    "\n",
    "# Here, out should be the output of the network in the previous excercise with shape (64,10)\n",
    "probabilities = softmax(out)\n",
    "\n",
    "# Does it have the right shape? Should be (64, 10)\n",
    "print(probabilities.shape)\n",
    "# Does it sum to 1?\n",
    "print(probabilities.sum(dim=1))"
   ]
  },
  {
   "cell_type": "markdown",
   "metadata": {},
   "source": [
    "## Building networks with PyTorch\n",
    "\n",
    "PyTorch provides a module `nn` that makes building networks much simpler. Here I'll show you how to build the same one as above with 784 inputs, 256 hidden units, 10 output units and a softmax output."
   ]
  },
  {
   "cell_type": "code",
   "execution_count": 25,
   "metadata": {},
   "outputs": [],
   "source": [
    "from torch import nn"
   ]
  },
  {
   "cell_type": "code",
   "execution_count": 26,
   "metadata": {},
   "outputs": [],
   "source": [
    "class Network(nn.Module):\n",
    "    def __init__(self):\n",
    "        super().__init__()\n",
    "        \n",
    "        # Inputs to hidden layer linear transformation\n",
    "        self.hidden = nn.Linear(784, 256)\n",
    "        # Output layer, 10 units - one for each digit\n",
    "        self.output = nn.Linear(256, 10)\n",
    "        \n",
    "        # Define sigmoid activation and softmax output \n",
    "        self.sigmoid = nn.Sigmoid()\n",
    "        self.softmax = nn.Softmax(dim=1)\n",
    "        \n",
    "    def forward(self, x):\n",
    "        # Pass the input tensor through each of our operations\n",
    "        x = self.hidden(x)\n",
    "        x = self.sigmoid(x)\n",
    "        x = self.output(x)\n",
    "        x = self.softmax(x)\n",
    "        \n",
    "        return x"
   ]
  },
  {
   "cell_type": "markdown",
   "metadata": {},
   "source": [
    "Let's go through this bit by bit.\n",
    "\n",
    "```python\n",
    "class Network(nn.Module):\n",
    "```\n",
    "\n",
    "Here we're inheriting from `nn.Module`. Combined with `super().__init__()` this creates a class that tracks the architecture and provides a lot of useful methods and attributes. It is mandatory to inherit from `nn.Module` when you're creating a class for your network. The name of the class itself can be anything.\n",
    "\n",
    "```python\n",
    "self.hidden = nn.Linear(784, 256)\n",
    "```\n",
    "\n",
    "This line creates a module for a linear transformation, $x\\mathbf{W} + b$, with 784 inputs and 256 outputs and assigns it to `self.hidden`. The module automatically creates the weight and bias tensors which we'll use in the `forward` method. You can access the weight and bias tensors once the network (`net`) is created with `net.hidden.weight` and `net.hidden.bias`.\n",
    "\n",
    "```python\n",
    "self.output = nn.Linear(256, 10)\n",
    "```\n",
    "\n",
    "Similarly, this creates another linear transformation with 256 inputs and 10 outputs.\n",
    "\n",
    "```python\n",
    "self.sigmoid = nn.Sigmoid()\n",
    "self.softmax = nn.Softmax(dim=1)\n",
    "```\n",
    "\n",
    "Here I defined operations for the sigmoid activation and softmax output. Setting `dim=1` in `nn.Softmax(dim=1)` calculates softmax across the columns.\n",
    "\n",
    "```python\n",
    "def forward(self, x):\n",
    "```\n",
    "\n",
    "PyTorch networks created with `nn.Module` must have a `forward` method defined. It takes in a tensor `x` and passes it through the operations you defined in the `__init__` method.\n",
    "\n",
    "```python\n",
    "x = self.hidden(x)\n",
    "x = self.sigmoid(x)\n",
    "x = self.output(x)\n",
    "x = self.softmax(x)\n",
    "```\n",
    "\n",
    "Here the input tensor `x` is passed through each operation and reassigned to `x`. We can see that the input tensor goes through the hidden layer, then a sigmoid function, then the output layer, and finally the softmax function. It doesn't matter what you name the variables here, as long as the inputs and outputs of the operations match the network architecture you want to build. The order in which you define things in the `__init__` method doesn't matter, but you'll need to sequence the operations correctly in the `forward` method.\n",
    "\n",
    "Now we can create a `Network` object."
   ]
  },
  {
   "cell_type": "code",
   "execution_count": 27,
   "metadata": {},
   "outputs": [
    {
     "data": {
      "text/plain": [
       "Network(\n",
       "  (hidden): Linear(in_features=784, out_features=256, bias=True)\n",
       "  (output): Linear(in_features=256, out_features=10, bias=True)\n",
       "  (sigmoid): Sigmoid()\n",
       "  (softmax): Softmax()\n",
       ")"
      ]
     },
     "execution_count": 27,
     "metadata": {},
     "output_type": "execute_result"
    }
   ],
   "source": [
    "# Create the network and look at it's text representation\n",
    "model = Network()\n",
    "model"
   ]
  },
  {
   "cell_type": "markdown",
   "metadata": {},
   "source": [
    "You can define the network somewhat more concisely and clearly using the `torch.nn.functional` module. This is the most common way you'll see networks defined as many operations are simple element-wise functions. We normally import this module as `F`, `import torch.nn.functional as F`."
   ]
  },
  {
   "cell_type": "code",
   "execution_count": 28,
   "metadata": {},
   "outputs": [],
   "source": [
    "import torch.nn.functional as F\n",
    "\n",
    "class Network(nn.Module):\n",
    "    def __init__(self):\n",
    "        super().__init__()\n",
    "        # Inputs to hidden layer linear transformation\n",
    "        self.hidden = nn.Linear(784, 256)\n",
    "        # Output layer, 10 units - one for each digit\n",
    "        self.output = nn.Linear(256, 10)\n",
    "        \n",
    "    def forward(self, x):\n",
    "        # Hidden layer with sigmoid activation\n",
    "        x = F.sigmoid(self.hidden(x))\n",
    "        # Output layer with softmax activation\n",
    "        x = F.softmax(self.output(x), dim=1)\n",
    "        \n",
    "        return x"
   ]
  },
  {
   "cell_type": "markdown",
   "metadata": {},
   "source": [
    "### Activation functions\n",
    "\n",
    "So far we've only been looking at the sigmoid activation function, but in general any function can be used as an activation function. The only requirement is that for a network to approximate a non-linear function, the activation functions must be non-linear. Here are a few more examples of common activation functions: Tanh (hyperbolic tangent), and ReLU (rectified linear unit).\n",
    "\n",
    "<img src=\"assets/activation.png\" width=700px>\n",
    "\n",
    "In practice, the ReLU function is used almost exclusively as the activation function for hidden layers."
   ]
  },
  {
   "cell_type": "markdown",
   "metadata": {},
   "source": [
    "### Your Turn to Build a Network\n",
    "\n",
    "<img src=\"assets/mlp_mnist.png\" width=600px>\n",
    "\n",
    "> **Exercise:** Create a network with 784 input units, a hidden layer with 128 units and a ReLU activation, then a hidden layer with 64 units and a ReLU activation, and finally an output layer with a softmax activation as shown above. You can use a ReLU activation with the `nn.ReLU` module or `F.relu` function.\n",
    "\n",
    "It's good practice to name your layers by their type of network, for instance 'fc' to represent a fully-connected layer. As you code your solution, use `fc1`, `fc2`, and `fc3` as your layer names."
   ]
  },
  {
   "cell_type": "code",
   "execution_count": 45,
   "metadata": {
    "scrolled": true
   },
   "outputs": [
    {
     "data": {
      "text/plain": [
       "Network2(\n",
       "  (fc1): Linear(in_features=784, out_features=128, bias=True)\n",
       "  (fc2): Linear(in_features=128, out_features=64, bias=True)\n",
       "  (output): Linear(in_features=64, out_features=10, bias=True)\n",
       ")"
      ]
     },
     "execution_count": 45,
     "metadata": {},
     "output_type": "execute_result"
    }
   ],
   "source": [
    "## Your solution here\n",
    "from torch import nn\n",
    "import torch.nn.functional as F\n",
    "\n",
    "class Network2(nn.Module):\n",
    "    def __init__(self):\n",
    "        super().__init__()\n",
    "        \n",
    "        self.fc1 = nn.Linear(784, 128)\n",
    "        self.fc2 = nn.Linear(128, 64)\n",
    "        self.output = nn.Linear(64, 10)\n",
    "        \n",
    "    def forward(self, x):\n",
    "        x = F.relu(self.fc1(x))\n",
    "        x = F.relu(self.fc2(x))\n",
    "        x = F.softmax(self.output(x), dim=1)\n",
    "        \n",
    "        return x\n",
    "        \n",
    "model = Network2()\n",
    "model"
   ]
  },
  {
   "cell_type": "markdown",
   "metadata": {},
   "source": [
    "### Initializing weights and biases\n",
    "\n",
    "The weights and such are automatically initialized for you, but it's possible to customize how they are initialized. The weights and biases are tensors attached to the layer you defined, you can get them with `model.fc1.weight` for instance."
   ]
  },
  {
   "cell_type": "code",
   "execution_count": 46,
   "metadata": {},
   "outputs": [
    {
     "name": "stdout",
     "output_type": "stream",
     "text": [
      "Parameter containing:\n",
      "tensor([[-0.0153, -0.0052,  0.0176,  ..., -0.0014,  0.0159,  0.0192],\n",
      "        [-0.0130,  0.0183, -0.0323,  ..., -0.0147,  0.0187,  0.0167],\n",
      "        [ 0.0293,  0.0208, -0.0331,  ...,  0.0011, -0.0157, -0.0089],\n",
      "        ...,\n",
      "        [-0.0053, -0.0140, -0.0109,  ..., -0.0111, -0.0033,  0.0058],\n",
      "        [ 0.0203, -0.0071, -0.0062,  ..., -0.0192,  0.0081,  0.0231],\n",
      "        [-0.0111, -0.0207,  0.0059,  ...,  0.0020, -0.0014, -0.0247]],\n",
      "       requires_grad=True)\n",
      "Parameter containing:\n",
      "tensor([-0.0141,  0.0186,  0.0279,  0.0244,  0.0087,  0.0326,  0.0239,  0.0117,\n",
      "        -0.0247,  0.0241, -0.0253, -0.0119, -0.0258,  0.0106,  0.0107,  0.0180,\n",
      "        -0.0345,  0.0048,  0.0180, -0.0228,  0.0063, -0.0198, -0.0185,  0.0120,\n",
      "         0.0234, -0.0310,  0.0011,  0.0356, -0.0101,  0.0183,  0.0082,  0.0006,\n",
      "        -0.0005,  0.0144, -0.0143, -0.0091, -0.0294, -0.0158,  0.0334,  0.0228,\n",
      "         0.0280,  0.0167,  0.0225, -0.0279,  0.0123, -0.0141, -0.0263, -0.0267,\n",
      "         0.0162, -0.0071,  0.0030, -0.0111,  0.0279, -0.0331,  0.0087, -0.0212,\n",
      "        -0.0048,  0.0244, -0.0111,  0.0319,  0.0096,  0.0111,  0.0352, -0.0094,\n",
      "        -0.0341, -0.0355,  0.0022,  0.0226, -0.0097, -0.0219, -0.0303,  0.0164,\n",
      "        -0.0259,  0.0106, -0.0237,  0.0066, -0.0318,  0.0145,  0.0095, -0.0062,\n",
      "         0.0016, -0.0218, -0.0090, -0.0134, -0.0108, -0.0196,  0.0079,  0.0324,\n",
      "        -0.0092, -0.0063,  0.0054,  0.0026, -0.0004,  0.0165,  0.0078, -0.0130,\n",
      "         0.0315,  0.0225,  0.0247,  0.0018, -0.0187, -0.0073,  0.0142,  0.0030,\n",
      "        -0.0116,  0.0031,  0.0308, -0.0277, -0.0156, -0.0033,  0.0320, -0.0094,\n",
      "         0.0314, -0.0349,  0.0180, -0.0355,  0.0069,  0.0103, -0.0271, -0.0235,\n",
      "        -0.0097, -0.0110, -0.0134,  0.0073, -0.0034, -0.0325, -0.0276,  0.0295],\n",
      "       requires_grad=True)\n"
     ]
    }
   ],
   "source": [
    "print(model.fc1.weight)\n",
    "print(model.fc1.bias)"
   ]
  },
  {
   "cell_type": "markdown",
   "metadata": {},
   "source": [
    "For custom initialization, we want to modify these tensors in place. These are actually autograd *Variables*, so we need to get back the actual tensors with `model.fc1.weight.data`. Once we have the tensors, we can fill them with zeros (for biases) or random normal values."
   ]
  },
  {
   "cell_type": "code",
   "execution_count": 47,
   "metadata": {},
   "outputs": [
    {
     "data": {
      "text/plain": [
       "tensor([0., 0., 0., 0., 0., 0., 0., 0., 0., 0., 0., 0., 0., 0., 0., 0., 0., 0., 0., 0., 0., 0., 0., 0.,\n",
       "        0., 0., 0., 0., 0., 0., 0., 0., 0., 0., 0., 0., 0., 0., 0., 0., 0., 0., 0., 0., 0., 0., 0., 0.,\n",
       "        0., 0., 0., 0., 0., 0., 0., 0., 0., 0., 0., 0., 0., 0., 0., 0., 0., 0., 0., 0., 0., 0., 0., 0.,\n",
       "        0., 0., 0., 0., 0., 0., 0., 0., 0., 0., 0., 0., 0., 0., 0., 0., 0., 0., 0., 0., 0., 0., 0., 0.,\n",
       "        0., 0., 0., 0., 0., 0., 0., 0., 0., 0., 0., 0., 0., 0., 0., 0., 0., 0., 0., 0., 0., 0., 0., 0.,\n",
       "        0., 0., 0., 0., 0., 0., 0., 0.])"
      ]
     },
     "execution_count": 47,
     "metadata": {},
     "output_type": "execute_result"
    }
   ],
   "source": [
    "# Set biases to all zeros\n",
    "model.fc1.bias.data.fill_(0)"
   ]
  },
  {
   "cell_type": "code",
   "execution_count": 48,
   "metadata": {},
   "outputs": [
    {
     "data": {
      "text/plain": [
       "tensor([[ 0.0049,  0.0076,  0.0046,  ...,  0.0044,  0.0044, -0.0123],\n",
       "        [-0.0195,  0.0013, -0.0080,  ...,  0.0060, -0.0013, -0.0065],\n",
       "        [ 0.0087,  0.0182, -0.0003,  ..., -0.0121,  0.0004, -0.0044],\n",
       "        ...,\n",
       "        [-0.0047, -0.0090,  0.0076,  ..., -0.0200, -0.0111,  0.0156],\n",
       "        [ 0.0101,  0.0069, -0.0116,  ..., -0.0074, -0.0007, -0.0271],\n",
       "        [ 0.0005,  0.0024, -0.0061,  ...,  0.0159,  0.0049,  0.0093]])"
      ]
     },
     "execution_count": 48,
     "metadata": {},
     "output_type": "execute_result"
    }
   ],
   "source": [
    "# sample from random normal with standard dev = 0.01\n",
    "model.fc1.weight.data.normal_(std=0.01)"
   ]
  },
  {
   "cell_type": "markdown",
   "metadata": {},
   "source": [
    "### Forward pass\n",
    "\n",
    "Now that we have a network, let's see what happens when we pass in an image."
   ]
  },
  {
   "cell_type": "code",
   "execution_count": 49,
   "metadata": {},
   "outputs": [
    {
     "data": {
      "image/png": "[encoded data removed]",
      "text/plain": [
       "<Figure size 432x648 with 2 Axes>"
      ]
     },
     "metadata": {
      "image/png": {
       "height": 226,
       "width": 423
      },
      "needs_background": "light"
     },
     "output_type": "display_data"
    }
   ],
   "source": [
    "# Grab some data \n",
    "dataiter = iter(trainloader)\n",
    "images, labels = dataiter.next()\n",
    "\n",
    "# Resize images into a 1D vector, new shape is (batch size, color channels, image pixels) \n",
    "images.resize_(64, 1, 784)\n",
    "# or images.resize_(images.shape[0], 1, 784) to automatically get batch size\n",
    "\n",
    "# Forward pass through the network\n",
    "img_idx = 0\n",
    "ps = model.forward(images[img_idx,:])\n",
    "\n",
    "img = images[img_idx]\n",
    "helper.view_classify(img.view(1, 28, 28), ps)"
   ]
  },
  {
   "cell_type": "markdown",
   "metadata": {},
   "source": [
    "As you can see above, our network has basically no idea what this digit is. It's because we haven't trained it yet, all the weights are random!\n",
    "\n",
    "### Using `nn.Sequential`\n",
    "\n",
    "PyTorch provides a convenient way to build networks like this where a tensor is passed sequentially through operations, `nn.Sequential` ([documentation](https://pytorch.org/docs/master/nn.html#torch.nn.Sequential)). Using this to build the equivalent network:"
   ]
  },
  {
   "cell_type": "code",
   "execution_count": 50,
   "metadata": {},
   "outputs": [
    {
     "name": "stdout",
     "output_type": "stream",
     "text": [
      "Sequential(\n",
      "  (0): Linear(in_features=784, out_features=128, bias=True)\n",
      "  (1): ReLU()\n",
      "  (2): Linear(in_features=128, out_features=64, bias=True)\n",
      "  (3): ReLU()\n",
      "  (4): Linear(in_features=64, out_features=10, bias=True)\n",
      "  (5): Softmax()\n",
      ")\n"
     ]
    },
    {
     "data": {
      "image/png": "[encoded data removed]",
      "text/plain": [
       "<Figure size 432x648 with 2 Axes>"
      ]
     },
     "metadata": {
      "image/png": {
       "height": 226,
       "width": 423
      },
      "needs_background": "light"
     },
     "output_type": "display_data"
    }
   ],
   "source": [
    "# Hyperparameters for our network\n",
    "input_size = 784\n",
    "hidden_sizes = [128, 64]\n",
    "output_size = 10\n",
    "\n",
    "# Build a feed-forward network\n",
    "model = nn.Sequential(nn.Linear(input_size, hidden_sizes[0]),\n",
    "                      nn.ReLU(),\n",
    "                      nn.Linear(hidden_sizes[0], hidden_sizes[1]),\n",
    "                      nn.ReLU(),\n",
    "                      nn.Linear(hidden_sizes[1], output_size),\n",
    "                      nn.Softmax(dim=1))\n",
    "print(model)\n",
    "\n",
    "# Forward pass through the network and display output\n",
    "images, labels = next(iter(trainloader))\n",
    "images.resize_(images.shape[0], 1, 784)\n",
    "ps = model.forward(images[0,:])\n",
    "helper.view_classify(images[0].view(1, 28, 28), ps)"
   ]
  },
  {
   "cell_type": "markdown",
   "metadata": {},
   "source": [
    "Here our model is the same as before: 784 input units, a hidden layer with 128 units, ReLU activation, 64 unit hidden layer, another ReLU, then the output layer with 10 units, and the softmax output.\n",
    "\n",
    "The operations are available by passing in the appropriate index. For example, if you want to get first Linear operation and look at the weights, you'd use `model[0]`."
   ]
  },
  {
   "cell_type": "code",
   "execution_count": 51,
   "metadata": {},
   "outputs": [
    {
     "name": "stdout",
     "output_type": "stream",
     "text": [
      "Linear(in_features=784, out_features=128, bias=True)\n"
     ]
    },
    {
     "data": {
      "text/plain": [
       "Parameter containing:\n",
       "tensor([[-0.0259, -0.0088, -0.0236,  ...,  0.0284, -0.0339,  0.0103],\n",
       "        [-0.0038,  0.0077, -0.0167,  ...,  0.0001,  0.0015, -0.0311],\n",
       "        [-0.0013,  0.0239, -0.0136,  ...,  0.0176,  0.0171,  0.0021],\n",
       "        ...,\n",
       "        [-0.0347,  0.0028, -0.0219,  ...,  0.0128, -0.0229, -0.0236],\n",
       "        [ 0.0328,  0.0139, -0.0126,  ...,  0.0142,  0.0117, -0.0113],\n",
       "        [ 0.0338,  0.0089,  0.0156,  ..., -0.0154,  0.0323,  0.0300]],\n",
       "       requires_grad=True)"
      ]
     },
     "execution_count": 51,
     "metadata": {},
     "output_type": "execute_result"
    }
   ],
   "source": [
    "print(model[0])\n",
    "model[0].weight"
   ]
  },
  {
   "cell_type": "markdown",
   "metadata": {},
   "source": [
    "You can also pass in an `OrderedDict` to name the individual layers and operations, instead of using incremental integers. Note that dictionary keys must be unique, so _each operation must have a different name_."
   ]
  },
  {
   "cell_type": "code",
   "execution_count": 53,
   "metadata": {},
   "outputs": [
    {
     "data": {
      "text/plain": [
       "Sequential(\n",
       "  (fc1): Linear(in_features=784, out_features=128, bias=True)\n",
       "  (relu1): ReLU()\n",
       "  (fc2): Linear(in_features=128, out_features=64, bias=True)\n",
       "  (relu2): ReLU()\n",
       "  (output): Linear(in_features=64, out_features=10, bias=True)\n",
       "  (softmax): Softmax()\n",
       ")"
      ]
     },
     "execution_count": 53,
     "metadata": {},
     "output_type": "execute_result"
    }
   ],
   "source": [
    "from collections import OrderedDict\n",
    "model = nn.Sequential(OrderedDict([\n",
    "                      ('fc1', nn.Linear(input_size, hidden_sizes[0])),\n",
    "                      ('relu1', nn.ReLU()),\n",
    "                      ('fc2', nn.Linear(hidden_sizes[0], hidden_sizes[1])),\n",
    "                      ('relu2', nn.ReLU()),\n",
    "                      ('output', nn.Linear(hidden_sizes[1], output_size)),\n",
    "                      ('softmax', nn.Softmax(dim=1))]))\n",
    "model"
   ]
  },
  {
   "cell_type": "markdown",
   "metadata": {},
   "source": [
    "Now you can access layers either by integer or the name"
   ]
  },
  {
   "cell_type": "code",
   "execution_count": 54,
   "metadata": {},
   "outputs": [
    {
     "name": "stdout",
     "output_type": "stream",
     "text": [
      "Linear(in_features=784, out_features=128, bias=True)\n",
      "Linear(in_features=784, out_features=128, bias=True)\n"
     ]
    }
   ],
   "source": [
    "print(model[0])\n",
    "print(model.fc1)"
   ]
  },
  {
   "cell_type": "markdown",
   "metadata": {},
   "source": [
    "In the next notebook, we'll see how we can train a neural network to accuractly predict the numbers appearing in the MNIST images."
   ]
  }
 ],
 "metadata": {
  "kernelspec": {
   "display_name": "Python 3",
   "language": "python",
   "name": "python3"
  },
  "language_info": {
   "codemirror_mode": {
    "name": "ipython",
    "version": 3
   },
   "file_extension": ".py",
   "mimetype": "text/x-python",
   "name": "python",
   "nbconvert_exporter": "python",
   "pygments_lexer": "ipython3",
   "version": "3.7.3"
  }
 },
 "nbformat": 4,
 "nbformat_minor": 2
}
