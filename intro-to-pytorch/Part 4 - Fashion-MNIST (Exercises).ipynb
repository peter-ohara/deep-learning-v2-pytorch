{
 "cells": [
  {
   "cell_type": "markdown",
   "metadata": {},
   "source": [
    "# Classifying Fashion-MNIST\n",
    "\n",
    "Now it's your turn to build and train a neural network. You'll be using the [Fashion-MNIST dataset](https://github.com/zalandoresearch/fashion-mnist), a drop-in replacement for the MNIST dataset. MNIST is actually quite trivial with neural networks where you can easily achieve better than 97% accuracy. Fashion-MNIST is a set of 28x28 greyscale images of clothes. It's more complex than MNIST, so it's a better representation of the actual performance of your network, and a better representation of datasets you'll use in the real world.\n",
    "\n",
    "<img src='assets/fashion-mnist-sprite.png' width=500px>\n",
    "\n",
    "In this notebook, you'll build your own neural network. For the most part, you could just copy and paste the code from Part 3, but you wouldn't be learning. It's important for you to write the code yourself and get it to work. Feel free to consult the previous notebooks though as you work through this.\n",
    "\n",
    "First off, let's load the dataset through torchvision."
   ]
  },
  {
   "cell_type": "code",
   "execution_count": 1,
   "metadata": {},
   "outputs": [
    {
     "name": "stderr",
     "output_type": "stream",
     "text": [
      "\r",
      "0it [00:00, ?it/s]"
     ]
    },
    {
     "name": "stdout",
     "output_type": "stream",
     "text": [
      "Downloading http://fashion-mnist.s3-website.eu-central-1.amazonaws.com/train-images-idx3-ubyte.gz to /home/peter/.pytorch/F_MNIST_data/FashionMNIST/raw/train-images-idx3-ubyte.gz\n"
     ]
    },
    {
     "name": "stderr",
     "output_type": "stream",
     "text": [
      "26427392it [02:04, 326491.00it/s]                              "
     ]
    },
    {
     "name": "stdout",
     "output_type": "stream",
     "text": [
      "Extracting /home/peter/.pytorch/F_MNIST_data/FashionMNIST/raw/train-images-idx3-ubyte.gz\n"
     ]
    },
    {
     "name": "stderr",
     "output_type": "stream",
     "text": [
      "\n",
      "0it [00:00, ?it/s]\u001b[A"
     ]
    },
    {
     "name": "stdout",
     "output_type": "stream",
     "text": [
      "Downloading http://fashion-mnist.s3-website.eu-central-1.amazonaws.com/train-labels-idx1-ubyte.gz to /home/peter/.pytorch/F_MNIST_data/FashionMNIST/raw/train-labels-idx1-ubyte.gz\n"
     ]
    },
    {
     "name": "stderr",
     "output_type": "stream",
     "text": [
      "\n",
      "  0%|          | 0/29515 [00:01<?, ?it/s]\u001b[A\n",
      " 56%|█████▌    | 16384/29515 [00:02<00:00, 15124.92it/s]\u001b[A\n",
      "32768it [00:02, 12821.22it/s]                           \u001b[A\n",
      "0it [00:00, ?it/s]\u001b[A"
     ]
    },
    {
     "name": "stdout",
     "output_type": "stream",
     "text": [
      "Extracting /home/peter/.pytorch/F_MNIST_data/FashionMNIST/raw/train-labels-idx1-ubyte.gz\n",
      "Downloading http://fashion-mnist.s3-website.eu-central-1.amazonaws.com/t10k-images-idx3-ubyte.gz to /home/peter/.pytorch/F_MNIST_data/FashionMNIST/raw/t10k-images-idx3-ubyte.gz\n"
     ]
    },
    {
     "name": "stderr",
     "output_type": "stream",
     "text": [
      "\n",
      "  0%|          | 0/4422102 [00:00<?, ?it/s]\u001b[A\n",
      "  0%|          | 16384/4422102 [00:01<02:42, 27090.68it/s]\u001b[A\n",
      "  1%|          | 24576/4422102 [00:01<02:12, 33138.08it/s]\u001b[A\n",
      "  1%|          | 32768/4422102 [00:01<01:53, 38556.71it/s]\u001b[A\n",
      "  1%|          | 40960/4422102 [00:01<01:36, 45246.56it/s]\u001b[A\n",
      "  1%|          | 49152/4422102 [00:02<02:09, 33827.47it/s]\u001b[A\n",
      "  2%|▏         | 73728/4422102 [00:02<01:36, 44978.42it/s]\u001b[A\n",
      "  2%|▏         | 90112/4422102 [00:02<01:46, 40495.38it/s]\u001b[A\n",
      "  2%|▏         | 98304/4422102 [00:02<01:42, 42225.88it/s]\u001b[A\n",
      "  2%|▏         | 106496/4422102 [00:03<02:55, 24552.25it/s]\u001b[A\n",
      "  3%|▎         | 114688/4422102 [00:03<02:23, 30071.66it/s]\u001b[A\n",
      "  3%|▎         | 122880/4422102 [00:04<02:16, 31566.18it/s]\u001b[A\n",
      "  3%|▎         | 131072/4422102 [00:04<02:06, 33812.88it/s]\u001b[A\n",
      "  4%|▎         | 155648/4422102 [00:04<01:35, 44723.16it/s]\u001b[A\n",
      "  4%|▍         | 172032/4422102 [00:04<01:25, 49968.83it/s]\u001b[A\n",
      "  4%|▍         | 180224/4422102 [00:05<02:11, 32147.78it/s]\u001b[A\n",
      "  5%|▍         | 204800/4422102 [00:05<01:39, 42554.94it/s]\u001b[A\n",
      "  5%|▌         | 221184/4422102 [00:05<01:16, 54628.70it/s]\u001b[A\n",
      "  5%|▌         | 237568/4422102 [00:06<02:15, 30776.27it/s]\u001b[A\n",
      "  6%|▌         | 270336/4422102 [00:06<01:38, 41942.17it/s]\u001b[A\n",
      "  7%|▋         | 303104/4422102 [00:06<01:20, 51116.49it/s]\u001b[A\n",
      "  8%|▊         | 352256/4422102 [00:06<01:00, 67272.86it/s]\u001b[A\n",
      "  9%|▉         | 393216/4422102 [00:07<00:44, 89534.54it/s]\u001b[A\n",
      "  9%|▉         | 417792/4422102 [00:07<00:39, 100278.47it/s]\u001b[A\n",
      " 10%|█         | 450560/4422102 [00:07<00:31, 125662.99it/s]\u001b[A\n",
      " 11%|█         | 483328/4422102 [00:07<00:26, 147552.42it/s]\u001b[A\n",
      " 11%|█▏        | 507904/4422102 [00:07<00:24, 159278.65it/s]\u001b[A\n",
      " 12%|█▏        | 532480/4422102 [00:07<00:31, 123870.77it/s]\u001b[A\n",
      " 13%|█▎        | 557056/4422102 [00:08<00:28, 134429.54it/s]\u001b[A\n",
      " 13%|█▎        | 581632/4422102 [00:08<00:37, 103184.77it/s]\u001b[A\n",
      " 14%|█▎        | 606208/4422102 [00:08<00:30, 123926.58it/s]\u001b[A\n",
      " 14%|█▍        | 630784/4422102 [00:08<00:31, 120552.62it/s]\u001b[A\n",
      " 15%|█▍        | 647168/4422102 [00:09<01:11, 52449.45it/s] \u001b[A\n",
      " 15%|█▌        | 671744/4422102 [00:09<01:00, 62343.22it/s]\u001b[A\n",
      " 16%|█▌        | 688128/4422102 [00:09<00:51, 73107.43it/s]\u001b[A\n",
      " 16%|█▌        | 704512/4422102 [00:10<01:35, 38761.31it/s]\u001b[A\n",
      " 17%|█▋        | 737280/4422102 [00:10<01:10, 52191.20it/s]\u001b[A\n",
      " 17%|█▋        | 770048/4422102 [00:11<00:57, 63119.09it/s]\u001b[A\n",
      " 18%|█▊        | 794624/4422102 [00:11<00:45, 79471.19it/s]\u001b[A\n",
      " 18%|█▊        | 811008/4422102 [00:11<00:40, 90107.62it/s]\u001b[A\n",
      " 19%|█▉        | 843776/4422102 [00:11<00:31, 114555.25it/s]\u001b[A\n",
      " 20%|█▉        | 868352/4422102 [00:11<00:29, 120049.44it/s]\u001b[A\n",
      "26427392it [02:20, 326491.00it/s]00:11<00:28, 123371.47it/s]\u001b[A\n",
      " 21%|██        | 917504/4422102 [00:12<00:28, 122933.42it/s]\u001b[A\n",
      " 21%|██        | 933888/4422102 [00:14<02:25, 24026.99it/s] \u001b[A\n",
      " 22%|██▏       | 966656/4422102 [00:14<01:44, 33002.56it/s]\u001b[A\n",
      " 23%|██▎       | 1032192/4422102 [00:14<01:13, 45933.87it/s]\u001b[A\n",
      " 24%|██▍       | 1073152/4422102 [00:14<01:06, 50662.75it/s]\u001b[A\n",
      " 25%|██▍       | 1097728/4422102 [00:15<00:53, 62648.11it/s]\u001b[A\n",
      " 26%|██▌       | 1138688/4422102 [00:15<00:39, 83104.10it/s]\u001b[A\n",
      " 27%|██▋       | 1187840/4422102 [00:15<00:29, 108049.45it/s]\u001b[A\n",
      " 28%|██▊       | 1245184/4422102 [00:15<00:22, 141028.44it/s]\u001b[A\n",
      " 29%|██▉       | 1286144/4422102 [00:17<00:54, 57521.87it/s] \u001b[A\n",
      " 30%|██▉       | 1310720/4422102 [00:18<01:36, 32100.25it/s]\u001b[A\n",
      " 30%|███       | 1335296/4422102 [00:19<01:30, 33987.54it/s]\u001b[A\n",
      " 31%|███       | 1351680/4422102 [00:19<01:35, 32045.70it/s]\u001b[A\n",
      " 31%|███       | 1368064/4422102 [00:20<01:22, 36893.47it/s]\u001b[A\n",
      " 31%|███▏      | 1384448/4422102 [00:20<01:15, 40399.71it/s]\u001b[A\n",
      " 31%|███▏      | 1392640/4422102 [00:20<01:17, 39053.97it/s]\u001b[A\n",
      " 32%|███▏      | 1400832/4422102 [00:21<01:28, 34115.97it/s]\u001b[A\n",
      " 32%|███▏      | 1433600/4422102 [00:21<01:04, 46348.66it/s]\u001b[A\n",
      " 33%|███▎      | 1458176/4422102 [00:21<00:49, 60086.84it/s]\u001b[A\n",
      " 33%|███▎      | 1474560/4422102 [00:21<00:41, 71103.40it/s]\u001b[A\n",
      " 34%|███▍      | 1499136/4422102 [00:21<00:33, 87778.93it/s]\u001b[A\n",
      " 35%|███▍      | 1540096/4422102 [00:21<00:25, 112327.21it/s]\u001b[A\n",
      " 36%|███▌      | 1572864/4422102 [00:21<00:20, 135932.17it/s]\u001b[A\n",
      " 36%|███▌      | 1597440/4422102 [00:21<00:18, 154837.60it/s]\u001b[A\n",
      " 37%|███▋      | 1630208/4422102 [00:21<00:15, 180998.68it/s]\u001b[A\n",
      " 38%|███▊      | 1671168/4422102 [00:22<00:15, 177059.54it/s]\u001b[A\n",
      " 38%|███▊      | 1695744/4422102 [00:22<00:17, 152950.20it/s]\u001b[A\n",
      " 39%|███▉      | 1728512/4422102 [00:22<00:16, 164918.63it/s]\u001b[A\n",
      " 40%|███▉      | 1761280/4422102 [00:22<00:13, 191011.75it/s]\u001b[A\n",
      " 40%|████      | 1785856/4422102 [00:22<00:15, 170418.05it/s]\u001b[A\n",
      " 41%|████      | 1810432/4422102 [00:23<00:23, 112771.27it/s]\u001b[A\n",
      " 41%|████▏     | 1826816/4422102 [00:23<00:34, 75188.49it/s] \u001b[A\n",
      " 42%|████▏     | 1843200/4422102 [00:23<00:38, 66601.35it/s]\u001b[A\n",
      " 42%|████▏     | 1867776/4422102 [00:24<00:30, 83042.94it/s]\u001b[A\n",
      " 43%|████▎     | 1900544/4422102 [00:24<00:24, 101894.36it/s]\u001b[A\n",
      " 44%|████▎     | 1933312/4422102 [00:24<00:22, 110855.52it/s]\u001b[A\n",
      " 44%|████▍     | 1949696/4422102 [00:24<00:21, 115178.54it/s]\u001b[A\n",
      " 44%|████▍     | 1966080/4422102 [00:25<00:37, 64863.15it/s] \u001b[A\n",
      " 45%|████▌     | 1990656/4422102 [00:25<00:31, 77038.54it/s]\u001b[A\n",
      " 45%|████▌     | 2007040/4422102 [00:25<00:27, 89091.82it/s]\u001b[A\n",
      " 46%|████▌     | 2023424/4422102 [00:25<00:28, 83767.71it/s]\u001b[A\n",
      " 47%|████▋     | 2064384/4422102 [00:25<00:22, 104486.01it/s]\u001b[A\n",
      " 47%|████▋     | 2097152/4422102 [00:25<00:17, 130359.24it/s]\u001b[A\n",
      " 48%|████▊     | 2129920/4422102 [00:26<00:15, 144539.02it/s]\u001b[A\n",
      " 49%|████▉     | 2170880/4422102 [00:26<00:12, 176583.21it/s]\u001b[A\n",
      " 50%|████▉     | 2203648/4422102 [00:26<00:13, 163244.94it/s]\u001b[A\n",
      " 51%|█████     | 2236416/4422102 [00:26<00:11, 189024.54it/s]\u001b[A\n",
      " 51%|█████     | 2260992/4422102 [00:26<00:13, 157907.51it/s]\u001b[A\n",
      " 52%|█████▏    | 2285568/4422102 [00:27<00:18, 118307.68it/s]\u001b[A\n",
      " 52%|█████▏    | 2318336/4422102 [00:27<00:14, 143175.40it/s]\u001b[A\n",
      " 53%|█████▎    | 2342912/4422102 [00:27<00:13, 157680.04it/s]\u001b[A\n",
      " 54%|█████▍    | 2383872/4422102 [00:27<00:10, 188137.69it/s]\u001b[A\n",
      " 55%|█████▌    | 2433024/4422102 [00:27<00:08, 224641.49it/s]\u001b[A\n",
      " 56%|█████▌    | 2473984/4422102 [00:27<00:07, 250326.62it/s]\u001b[A\n",
      " 57%|█████▋    | 2523136/4422102 [00:27<00:06, 284655.75it/s]\u001b[A\n",
      " 58%|█████▊    | 2572288/4422102 [00:27<00:05, 316543.22it/s]\u001b[A\n",
      " 59%|█████▉    | 2621440/4422102 [00:28<00:05, 343453.56it/s]\u001b[A\n",
      " 60%|██████    | 2662400/4422102 [00:28<00:11, 153131.15it/s]\u001b[A\n",
      " 61%|██████    | 2695168/4422102 [00:28<00:09, 173436.36it/s]\u001b[A\n",
      " 62%|██████▏   | 2727936/4422102 [00:28<00:09, 177891.31it/s]\u001b[A\n",
      " 62%|██████▏   | 2760704/4422102 [00:29<00:08, 196435.17it/s]\u001b[A\n",
      " 63%|██████▎   | 2801664/4422102 [00:29<00:07, 229168.54it/s]\u001b[A\n",
      " 64%|██████▍   | 2850816/4422102 [00:29<00:05, 263608.39it/s]\u001b[A\n",
      " 66%|██████▌   | 2908160/4422102 [00:29<00:04, 304180.35it/s]\u001b[A\n",
      " 67%|██████▋   | 2965504/4422102 [00:29<00:04, 343636.19it/s]\u001b[A\n",
      " 68%|██████▊   | 3006464/4422102 [00:29<00:04, 341208.19it/s]\u001b[A\n",
      " 69%|██████▉   | 3047424/4422102 [00:29<00:04, 330213.97it/s]\u001b[A\n",
      " 70%|██████▉   | 3088384/4422102 [00:36<01:12, 18493.12it/s] \u001b[A\n",
      " 89%|████████▉ | 3948544/4422102 [00:37<00:18, 26301.50it/s]\u001b[A\n",
      " 91%|█████████ | 4022272/4422102 [00:38<00:13, 30480.52it/s]\u001b[A\n",
      " 92%|█████████▏| 4079616/4422102 [00:39<00:08, 40471.73it/s]\u001b[A\n",
      " 93%|█████████▎| 4128768/4422102 [00:39<00:05, 52572.74it/s]\u001b[A\n",
      " 94%|█████████▍| 4169728/4422102 [00:39<00:03, 64604.83it/s]\u001b[A\n",
      " 95%|█████████▌| 4202496/4422102 [00:39<00:02, 83846.44it/s]\u001b[A\n",
      " 96%|█████████▌| 4235264/4422102 [00:40<00:02, 91487.02it/s]\u001b[A\n",
      " 96%|█████████▋| 4259840/4422102 [00:40<00:01, 110778.13it/s]\u001b[A\n",
      " 97%|█████████▋| 4284416/4422102 [00:40<00:01, 130087.69it/s]\u001b[A\n",
      " 97%|█████████▋| 4308992/4422102 [00:40<00:00, 140972.48it/s]\u001b[A\n",
      " 98%|█████████▊| 4333568/4422102 [00:40<00:00, 143326.48it/s]\u001b[A\n",
      " 99%|█████████▊| 4358144/4422102 [00:41<00:00, 99424.80it/s] \u001b[A\n",
      " 99%|█████████▉| 4374528/4422102 [00:41<00:00, 107125.39it/s]\u001b[A\n",
      "100%|█████████▉| 4407296/4422102 [00:41<00:00, 122443.60it/s]\u001b[A\n",
      "4423680it [00:41, 75389.35it/s]                              \u001b[A\n",
      "\n",
      "0it [00:00, ?it/s]\u001b[A\u001b[A"
     ]
    },
    {
     "name": "stdout",
     "output_type": "stream",
     "text": [
      "Extracting /home/peter/.pytorch/F_MNIST_data/FashionMNIST/raw/t10k-images-idx3-ubyte.gz\n",
      "Downloading http://fashion-mnist.s3-website.eu-central-1.amazonaws.com/t10k-labels-idx1-ubyte.gz to /home/peter/.pytorch/F_MNIST_data/FashionMNIST/raw/t10k-labels-idx1-ubyte.gz\n"
     ]
    },
    {
     "name": "stderr",
     "output_type": "stream",
     "text": [
      "\n",
      "\n",
      "  0%|          | 0/5148 [00:00<?, ?it/s]\u001b[A\u001b[A"
     ]
    },
    {
     "name": "stdout",
     "output_type": "stream",
     "text": [
      "Extracting /home/peter/.pytorch/F_MNIST_data/FashionMNIST/raw/t10k-labels-idx1-ubyte.gz\n",
      "Processing...\n",
      "Done!\n"
     ]
    },
    {
     "name": "stderr",
     "output_type": "stream",
     "text": [
      "\n",
      "4423680it [00:52, 75389.35it/s]\u001b[A"
     ]
    }
   ],
   "source": [
    "import torch\n",
    "from torchvision import datasets, transforms\n",
    "import helper\n",
    "\n",
    "# Define a transform to normalize the data\n",
    "transform = transforms.Compose([transforms.ToTensor(),\n",
    "                                transforms.Normalize((0.5,), (0.5,))])\n",
    "# Download and load the training data\n",
    "trainset = datasets.FashionMNIST('~/.pytorch/F_MNIST_data/', download=True, train=True, transform=transform)\n",
    "trainloader = torch.utils.data.DataLoader(trainset, batch_size=64, shuffle=True)\n",
    "\n",
    "# Download and load the test data\n",
    "testset = datasets.FashionMNIST('~/.pytorch/F_MNIST_data/', download=True, train=False, transform=transform)\n",
    "testloader = torch.utils.data.DataLoader(testset, batch_size=64, shuffle=True)"
   ]
  },
  {
   "cell_type": "markdown",
   "metadata": {},
   "source": [
    "Here we can see one of the images."
   ]
  },
  {
   "cell_type": "code",
   "execution_count": 7,
   "metadata": {},
   "outputs": [
    {
     "data": {
      "image/png": "[encoded data removed]",
      "text/plain": [
       "<Figure size 432x288 with 1 Axes>"
      ]
     },
     "metadata": {
      "needs_background": "light"
     },
     "output_type": "display_data"
    }
   ],
   "source": [
    "image, label = next(iter(trainloader))\n",
    "helper.imshow(image[0,:]);"
   ]
  },
  {
   "cell_type": "markdown",
   "metadata": {},
   "source": [
    "## Building the network\n",
    "\n",
    "Here you should define your network. As with MNIST, each image is 28x28 which is a total of 784 pixels, and there are 10 classes. You should include at least one hidden layer. We suggest you use ReLU activations for the layers and to return the logits or log-softmax from the forward pass. It's up to you how many layers you add and the size of those layers."
   ]
  },
  {
   "cell_type": "code",
   "execution_count": 11,
   "metadata": {},
   "outputs": [],
   "source": [
    "# TODO: Define your network architecture here\n",
    "import torch\n",
    "from torch import nn\n",
    "import torch.nn.functional as F\n",
    "model = nn.Sequential(nn.Linear(784, 256),\n",
    "                     nn.ReLU(),\n",
    "                     nn.Linear(256, 10),\n",
    "                     nn.LogSoftmax(dim=1))"
   ]
  },
  {
   "cell_type": "markdown",
   "metadata": {},
   "source": [
    "# Train the network\n",
    "\n",
    "Now you should create your network and train it. First you'll want to define [the criterion](http://pytorch.org/docs/master/nn.html#loss-functions) ( something like `nn.CrossEntropyLoss`) and [the optimizer](http://pytorch.org/docs/master/optim.html) (typically `optim.SGD` or `optim.Adam`).\n",
    "\n",
    "Then write the training code. Remember the training pass is a fairly straightforward process:\n",
    "\n",
    "* Make a forward pass through the network to get the logits \n",
    "* Use the logits to calculate the loss\n",
    "* Perform a backward pass through the network with `loss.backward()` to calculate the gradients\n",
    "* Take a step with the optimizer to update the weights\n",
    "\n",
    "By adjusting the hyperparameters (hidden units, learning rate, etc), you should be able to get the training loss below 0.4."
   ]
  },
  {
   "cell_type": "code",
   "execution_count": 31,
   "metadata": {},
   "outputs": [],
   "source": [
    "# TODO: Create the network, define the criterion and optimizer\n",
    "from torch import optim\n",
    "\n",
    "criterion = nn.NLLLoss()\n",
    "optimizer = optim.Adam(model.parameters(), lr=0.003)"
   ]
  },
  {
   "cell_type": "code",
   "execution_count": 33,
   "metadata": {},
   "outputs": [
    {
     "name": "stdout",
     "output_type": "stream",
     "text": [
      "Running loss: 0.40916319115202565\n",
      "Running loss: 0.4063481352985032\n",
      "Running loss: 0.4034585780871194\n",
      "Running loss: 0.3925545656525377\n",
      "Running loss: 0.3945862873435529\n"
     ]
    }
   ],
   "source": [
    "# TODO: Train the network here\n",
    "epochs = 5\n",
    "\n",
    "for epoch in range(epochs):\n",
    "    running_loss = 0\n",
    "    for images, labels in trainloader:\n",
    "        images = images.view(images.shape[0], 784)\n",
    "        \n",
    "        optimizer.zero_grad()\n",
    "        output = model(images)\n",
    "        loss = criterion(output, labels)\n",
    "        loss.backward()\n",
    "        optimizer.step()\n",
    "        \n",
    "        running_loss += loss.item()\n",
    "    else:\n",
    "        print(f\"Running loss: {running_loss/len(trainloader)}\")"
   ]
  },
  {
   "cell_type": "code",
   "execution_count": 37,
   "metadata": {},
   "outputs": [
    {
     "name": "stdout",
     "output_type": "stream",
     "text": [
      "tensor([[5.2609e-04, 3.7082e-03, 1.4454e-06, 9.9561e-01, 1.4197e-04, 9.9494e-09,\n",
      "         6.2871e-06, 1.6054e-18, 6.3164e-06, 5.0906e-18]])\n"
     ]
    },
    {
     "data": {
      "image/png": "[encoded data removed]",
      "text/plain": [
       "<Figure size 432x648 with 2 Axes>"
      ]
     },
     "metadata": {
      "image/png": {
       "height": 206,
       "width": 423
      },
      "needs_background": "light"
     },
     "output_type": "display_data"
    }
   ],
   "source": [
    "%matplotlib inline\n",
    "%config InlineBackend.figure_format = 'retina'\n",
    "\n",
    "import helper\n",
    "\n",
    "# Test out your network!\n",
    "\n",
    "dataiter = iter(testloader)\n",
    "images, labels = dataiter.next()\n",
    "img = images[0]\n",
    "# Convert 2D image to 1D vector\n",
    "img = img.resize_(1, 784)\n",
    "\n",
    "# TODO: Calculate the class probabilities (softmax) for img\n",
    "with torch.no_grad():\n",
    "    logps = model(img)\n",
    "\n",
    "ps = torch.exp(logps)\n",
    "print(ps)\n",
    "\n",
    "# Plot the image and probabilities\n",
    "helper.view_classify(img.resize_(1, 28, 28), ps, version='Fashion')"
   ]
  }
 ],
 "metadata": {
  "kernelspec": {
   "display_name": "Python 3",
   "language": "python",
   "name": "python3"
  },
  "language_info": {
   "codemirror_mode": {
    "name": "ipython",
    "version": 3
   },
   "file_extension": ".py",
   "mimetype": "text/x-python",
   "name": "python",
   "nbconvert_exporter": "python",
   "pygments_lexer": "ipython3",
   "version": "3.7.3"
  }
 },
 "nbformat": 4,
 "nbformat_minor": 2
}
